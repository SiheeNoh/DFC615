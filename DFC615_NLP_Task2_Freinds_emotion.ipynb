{
  "nbformat": 4,
  "nbformat_minor": 0,
  "metadata": {
    "colab": {
      "name": "DFC615_NLP_Task2_Freinds_emotion.ipynb",
      "provenance": [],
      "authorship_tag": "ABX9TyPxlf+wHPxiQfoWOAFnU5Yr",
      "include_colab_link": true
    },
    "kernelspec": {
      "name": "python3",
      "display_name": "Python 3"
    }
  },
  "cells": [
    {
      "cell_type": "markdown",
      "metadata": {
        "id": "view-in-github",
        "colab_type": "text"
      },
      "source": [
        "<a href=\"https://colab.research.google.com/github/SiheeNoh/DFC615/blob/master/DFC615_NLP_Task2_Freinds_emotion.ipynb\" target=\"_parent\"><img src=\"https://colab.research.google.com/assets/colab-badge.svg\" alt=\"Open In Colab\"/></a>"
      ]
    },
    {
      "cell_type": "markdown",
      "metadata": {
        "id": "HqD8J_we478U",
        "colab_type": "text"
      },
      "source": [
        "2. 영어 감정 분석 \n",
        "  • 드라마 대본으로부터 감정을 분류 \n",
        "  • Friends 데이터 다운로드  http://doraemon.iis.sinica.edu.tw/emotionlines/download.html\n",
        "\n",
        "\n",
        "Friends emotion"
      ]
    },
    {
      "cell_type": "code",
      "metadata": {
        "id": "Gqjry7uD5Gc1",
        "colab_type": "code",
        "colab": {
          "base_uri": "https://localhost:8080/",
          "height": 834
        },
        "outputId": "fc00e34d-e96b-43bc-a941-ab48e0f04b89"
      },
      "source": [
        "%%time\n",
        "!rm -f en_data.txt friends_dev.json friends_dev_test.json friends_dev_test2.json\n",
        "\n",
        "!wget -nc https://raw.githubusercontent.com/SiheeNoh/DFC615/master/en_data.txt\n",
        "!wget -nc https://raw.githubusercontent.com/SiheeNoh/DFC615/master/friends_train.json\n",
        "!wget -nc https://raw.githubusercontent.com/SiheeNoh/DFC615/master/friends_test.json\n",
        "!wget -nc https://raw.githubusercontent.com/SiheeNoh/DFC615/master/friends_dev.json\n"
      ],
      "execution_count": 1,
      "outputs": [
        {
          "output_type": "stream",
          "text": [
            "--2020-06-25 23:00:49--  https://raw.githubusercontent.com/SiheeNoh/DFC615/master/en_data.txt\n",
            "Resolving raw.githubusercontent.com (raw.githubusercontent.com)... 151.101.0.133, 151.101.64.133, 151.101.128.133, ...\n",
            "Connecting to raw.githubusercontent.com (raw.githubusercontent.com)|151.101.0.133|:443... connected.\n",
            "HTTP request sent, awaiting response... 200 OK\n",
            "Length: 201575 (197K) [text/plain]\n",
            "Saving to: ‘en_data.txt’\n",
            "\n",
            "\ren_data.txt           0%[                    ]       0  --.-KB/s               \ren_data.txt         100%[===================>] 196.85K  --.-KB/s    in 0.04s   \n",
            "\n",
            "2020-06-25 23:00:49 (4.30 MB/s) - ‘en_data.txt’ saved [201575/201575]\n",
            "\n",
            "--2020-06-25 23:00:52--  https://raw.githubusercontent.com/SiheeNoh/DFC615/master/friends_train.json\n",
            "Resolving raw.githubusercontent.com (raw.githubusercontent.com)... 151.101.0.133, 151.101.64.133, 151.101.128.133, ...\n",
            "Connecting to raw.githubusercontent.com (raw.githubusercontent.com)|151.101.0.133|:443... connected.\n",
            "HTTP request sent, awaiting response... 200 OK\n",
            "Length: 2065470 (2.0M) [text/plain]\n",
            "Saving to: ‘friends_train.json’\n",
            "\n",
            "friends_train.json  100%[===================>]   1.97M  --.-KB/s    in 0.1s    \n",
            "\n",
            "2020-06-25 23:00:52 (13.8 MB/s) - ‘friends_train.json’ saved [2065470/2065470]\n",
            "\n",
            "--2020-06-25 23:00:54--  https://raw.githubusercontent.com/SiheeNoh/DFC615/master/friends_test.json\n",
            "Resolving raw.githubusercontent.com (raw.githubusercontent.com)... 151.101.0.133, 151.101.64.133, 151.101.128.133, ...\n",
            "Connecting to raw.githubusercontent.com (raw.githubusercontent.com)|151.101.0.133|:443... connected.\n",
            "HTTP request sent, awaiting response... 200 OK\n",
            "Length: 544341 (532K) [text/plain]\n",
            "Saving to: ‘friends_test.json’\n",
            "\n",
            "friends_test.json   100%[===================>] 531.58K  --.-KB/s    in 0.09s   \n",
            "\n",
            "2020-06-25 23:00:55 (6.09 MB/s) - ‘friends_test.json’ saved [544341/544341]\n",
            "\n",
            "--2020-06-25 23:00:56--  https://raw.githubusercontent.com/SiheeNoh/DFC615/master/friends_dev.json\n",
            "Resolving raw.githubusercontent.com (raw.githubusercontent.com)... 151.101.0.133, 151.101.64.133, 151.101.128.133, ...\n",
            "Connecting to raw.githubusercontent.com (raw.githubusercontent.com)|151.101.0.133|:443... connected.\n",
            "HTTP request sent, awaiting response... 200 OK\n",
            "Length: 229392 (224K) [text/plain]\n",
            "Saving to: ‘friends_dev.json’\n",
            "\n",
            "friends_dev.json    100%[===================>] 224.02K  --.-KB/s    in 0.05s   \n",
            "\n",
            "2020-06-25 23:00:56 (4.39 MB/s) - ‘friends_dev.json’ saved [229392/229392]\n",
            "\n",
            "CPU times: user 62.9 ms, sys: 29.2 ms, total: 92.2 ms\n",
            "Wall time: 13.8 s\n"
          ],
          "name": "stdout"
        }
      ]
    },
    {
      "cell_type": "markdown",
      "metadata": {
        "id": "7jXPjx91aNxL",
        "colab_type": "text"
      },
      "source": [
        "Json 파일 읽기"
      ]
    },
    {
      "cell_type": "code",
      "metadata": {
        "id": "_T8S_HFu45nl",
        "colab_type": "code",
        "colab": {}
      },
      "source": [
        "#import required modules \n",
        "\n",
        "import pandas as pd\n",
        "import matplotlib.pyplot as plt\n",
        "import json\n",
        "\n",
        "train_data=None\n",
        "test_data=None\n",
        "dev_data=None\n",
        "\n",
        "with open('friends_train.json') as f:\n",
        "   train_data = json.load(f)\n",
        "\n",
        "with open('friends_test.json') as f:\n",
        "   test_data = json.load(f)\n",
        "\n",
        "with open('friends_dev.json') as f:\n",
        "   dev_data = json.load(f)\n",
        "\n"
      ],
      "execution_count": 2,
      "outputs": []
    },
    {
      "cell_type": "markdown",
      "metadata": {
        "id": "yjk2fpxwaIUU",
        "colab_type": "text"
      },
      "source": [
        "JSONEncoder 처리하기"
      ]
    },
    {
      "cell_type": "code",
      "metadata": {
        "id": "dsdyD4ZAZ7zY",
        "colab_type": "code",
        "colab": {}
      },
      "source": [
        "train_json_code = json.JSONEncoder().encode(train_data)\n",
        "#print(train_json_code)"
      ],
      "execution_count": 3,
      "outputs": []
    },
    {
      "cell_type": "code",
      "metadata": {
        "id": "kO2Ywd2JZ7-_",
        "colab_type": "code",
        "colab": {}
      },
      "source": [
        "test_json_code = json.JSONEncoder().encode(test_data)\n",
        "#print(test_json_code)"
      ],
      "execution_count": 4,
      "outputs": []
    },
    {
      "cell_type": "code",
      "metadata": {
        "id": "XlYy17AECKsJ",
        "colab_type": "code",
        "colab": {}
      },
      "source": [
        "dev_json_code = json.JSONEncoder().encode(dev_data)\n",
        "#print(dev_json_code)\n"
      ],
      "execution_count": 5,
      "outputs": []
    },
    {
      "cell_type": "markdown",
      "metadata": {
        "id": "Unyi5WMJam_u",
        "colab_type": "text"
      },
      "source": [
        "dumps 처리하기"
      ]
    },
    {
      "cell_type": "code",
      "metadata": {
        "id": "EVEIyxBPaYk4",
        "colab_type": "code",
        "colab": {}
      },
      "source": [
        "train_ch = json.dumps(train_data, ensure_ascii=False)    #ensure_ascii=False 사용\n",
        "#print(train_ch)\n"
      ],
      "execution_count": 6,
      "outputs": []
    },
    {
      "cell_type": "code",
      "metadata": {
        "id": "8tkAPAtqaYtw",
        "colab_type": "code",
        "colab": {}
      },
      "source": [
        "test_ch = json.dumps(test_data, ensure_ascii=False)    #ensure_ascii=False 사용\n",
        "#print(test_ch)\n"
      ],
      "execution_count": 7,
      "outputs": []
    },
    {
      "cell_type": "code",
      "metadata": {
        "id": "8bp08_0aCcZR",
        "colab_type": "code",
        "colab": {}
      },
      "source": [
        "dev_ch = json.dumps(dev_data, ensure_ascii=False)    #ensure_ascii=False 사용\n",
        "#print(dev_ch)\n"
      ],
      "execution_count": 8,
      "outputs": []
    },
    {
      "cell_type": "markdown",
      "metadata": {
        "id": "oR2-QYozbCWv",
        "colab_type": "text"
      },
      "source": [
        "JSONDecoder 처리하기"
      ]
    },
    {
      "cell_type": "code",
      "metadata": {
        "id": "igCna8aYaxEz",
        "colab_type": "code",
        "colab": {
          "base_uri": "https://localhost:8080/",
          "height": 87
        },
        "outputId": "2946c739-56cb-43d7-f724-58cf69019a6b"
      },
      "source": [
        "# sample\n",
        "#{'annotation': '0002120',\n",
        "# 'emotion': 'non-neutral',\n",
        "# 'speaker': 'Phoebe',\n",
        "# 'utterance': 'Oh my God, he\\x92s lost it. He\\x92s totally lost it.'}\n",
        "\n",
        "train_json_code = json.JSONDecoder().decode(train_ch)\n",
        "train_json_code[0][0]"
      ],
      "execution_count": 9,
      "outputs": [
        {
          "output_type": "execute_result",
          "data": {
            "text/plain": [
              "{'annotation': '4100000',\n",
              " 'emotion': 'neutral',\n",
              " 'speaker': 'Chandler',\n",
              " 'utterance': 'also I was the point person on my company\\x92s transition from the KL-5 to GR-6 system.'}"
            ]
          },
          "metadata": {
            "tags": []
          },
          "execution_count": 9
        }
      ]
    },
    {
      "cell_type": "code",
      "metadata": {
        "id": "HeH9HBBDaxLw",
        "colab_type": "code",
        "colab": {
          "base_uri": "https://localhost:8080/",
          "height": 87
        },
        "outputId": "8a0be025-48ef-42f4-b393-8b9d6b36539e"
      },
      "source": [
        "test_json_code = json.JSONDecoder().decode(test_ch)\n",
        "test_json_code[0][0]"
      ],
      "execution_count": 10,
      "outputs": [
        {
          "output_type": "execute_result",
          "data": {
            "text/plain": [
              "{'annotation': '2000030',\n",
              " 'emotion': 'surprise',\n",
              " 'speaker': 'Mark',\n",
              " 'utterance': 'Why do all you\\x92re coffee mugs have numbers on the bottom?'}"
            ]
          },
          "metadata": {
            "tags": []
          },
          "execution_count": 10
        }
      ]
    },
    {
      "cell_type": "code",
      "metadata": {
        "id": "nCkisJrFCqwG",
        "colab_type": "code",
        "colab": {
          "base_uri": "https://localhost:8080/",
          "height": 87
        },
        "outputId": "7d4c24db-ec39-4fa5-8be2-a34128a85953"
      },
      "source": [
        "dev_json_code = json.JSONDecoder().decode(dev_ch)\n",
        "dev_json_code[0][0]"
      ],
      "execution_count": 11,
      "outputs": [
        {
          "output_type": "execute_result",
          "data": {
            "text/plain": [
              "{'annotation': '0002120',\n",
              " 'emotion': 'non-neutral',\n",
              " 'speaker': 'Phoebe',\n",
              " 'utterance': 'Oh my God, he\\x92s lost it. He\\x92s totally lost it.'}"
            ]
          },
          "metadata": {
            "tags": []
          },
          "execution_count": 11
        }
      ]
    },
    {
      "cell_type": "code",
      "metadata": {
        "id": "ccv6JRC0F55H",
        "colab_type": "code",
        "colab": {
          "base_uri": "https://localhost:8080/",
          "height": 70
        },
        "outputId": "901b85e5-0db2-4cfe-d6a3-b4afaf060a2b"
      },
      "source": [
        "# result checked\n",
        "\n",
        "for i in range(0,3):\n",
        "  print(train_json_code[0][i]['utterance'] + ',' + train_json_code[0][i]['emotion'])"
      ],
      "execution_count": 12,
      "outputs": [
        {
          "output_type": "stream",
          "text": [
            "also I was the point person on my companys transition from the KL-5 to GR-6 system.,neutral\n",
            "You mustve had your hands full.,neutral\n",
            "That I did. That I did.,neutral\n"
          ],
          "name": "stdout"
        }
      ]
    },
    {
      "cell_type": "markdown",
      "metadata": {
        "id": "Na8vHYL1cdRl",
        "colab_type": "text"
      },
      "source": [
        "train 데이터 처리하기"
      ]
    },
    {
      "cell_type": "code",
      "metadata": {
        "id": "auq4KdNvIIl7",
        "colab_type": "code",
        "colab": {}
      },
      "source": [
        "#for a in range(len(train_json_code)):\n",
        "#  c = train_json_code[a]\n",
        "#  for b in range(len(c)):\n",
        "#    print(train_json_code[a][b]['utterance'] + ',' + train_json_code[a][b]['emotion'])\n",
        "\n",
        "train_sentence = []\n",
        "train_labels = []\n",
        "\n",
        "for a in range(len(train_json_code)):\n",
        "  c = train_json_code[a]\n",
        "  for b in range(len(c)):\n",
        "    train_sentence.append(train_json_code[a][b]['utterance'])\n",
        "    train_labels.append(train_json_code[a][b]['emotion'])\n"
      ],
      "execution_count": 13,
      "outputs": []
    },
    {
      "cell_type": "code",
      "metadata": {
        "id": "ndwbg_QHNf_W",
        "colab_type": "code",
        "colab": {}
      },
      "source": [
        "#convert the list into data frame for better analysis\n",
        "train_df = pd.DataFrame(list(zip(train_sentence, train_labels)), \n",
        "               columns =['train_Sentences', 'train_emotion']) "
      ],
      "execution_count": 14,
      "outputs": []
    },
    {
      "cell_type": "code",
      "metadata": {
        "id": "yNU7wvE8N1Z_",
        "colab_type": "code",
        "colab": {
          "base_uri": "https://localhost:8080/",
          "height": 406
        },
        "outputId": "7cc0674b-f2d6-4f71-ded2-83c594be8a36"
      },
      "source": [
        "train_df"
      ],
      "execution_count": 15,
      "outputs": [
        {
          "output_type": "execute_result",
          "data": {
            "text/html": [
              "<div>\n",
              "<style scoped>\n",
              "    .dataframe tbody tr th:only-of-type {\n",
              "        vertical-align: middle;\n",
              "    }\n",
              "\n",
              "    .dataframe tbody tr th {\n",
              "        vertical-align: top;\n",
              "    }\n",
              "\n",
              "    .dataframe thead th {\n",
              "        text-align: right;\n",
              "    }\n",
              "</style>\n",
              "<table border=\"1\" class=\"dataframe\">\n",
              "  <thead>\n",
              "    <tr style=\"text-align: right;\">\n",
              "      <th></th>\n",
              "      <th>train_Sentences</th>\n",
              "      <th>train_emotion</th>\n",
              "    </tr>\n",
              "  </thead>\n",
              "  <tbody>\n",
              "    <tr>\n",
              "      <th>0</th>\n",
              "      <td>also I was the point person on my companys tr...</td>\n",
              "      <td>neutral</td>\n",
              "    </tr>\n",
              "    <tr>\n",
              "      <th>1</th>\n",
              "      <td>You mustve had your hands full.</td>\n",
              "      <td>neutral</td>\n",
              "    </tr>\n",
              "    <tr>\n",
              "      <th>2</th>\n",
              "      <td>That I did. That I did.</td>\n",
              "      <td>neutral</td>\n",
              "    </tr>\n",
              "    <tr>\n",
              "      <th>3</th>\n",
              "      <td>So lets talk a little bit about your duties.</td>\n",
              "      <td>neutral</td>\n",
              "    </tr>\n",
              "    <tr>\n",
              "      <th>4</th>\n",
              "      <td>My duties?  All right.</td>\n",
              "      <td>surprise</td>\n",
              "    </tr>\n",
              "    <tr>\n",
              "      <th>...</th>\n",
              "      <td>...</td>\n",
              "      <td>...</td>\n",
              "    </tr>\n",
              "    <tr>\n",
              "      <th>10556</th>\n",
              "      <td>You or me?</td>\n",
              "      <td>neutral</td>\n",
              "    </tr>\n",
              "    <tr>\n",
              "      <th>10557</th>\n",
              "      <td>I got it. Uh, Joey, women don't have Adam's ap...</td>\n",
              "      <td>non-neutral</td>\n",
              "    </tr>\n",
              "    <tr>\n",
              "      <th>10558</th>\n",
              "      <td>You guys are messing with me, right?</td>\n",
              "      <td>surprise</td>\n",
              "    </tr>\n",
              "    <tr>\n",
              "      <th>10559</th>\n",
              "      <td>Yeah.</td>\n",
              "      <td>neutral</td>\n",
              "    </tr>\n",
              "    <tr>\n",
              "      <th>10560</th>\n",
              "      <td>That was a good one. For a second there, I was...</td>\n",
              "      <td>non-neutral</td>\n",
              "    </tr>\n",
              "  </tbody>\n",
              "</table>\n",
              "<p>10561 rows × 2 columns</p>\n",
              "</div>"
            ],
            "text/plain": [
              "                                         train_Sentences train_emotion\n",
              "0      also I was the point person on my companys tr...       neutral\n",
              "1                       You mustve had your hands full.       neutral\n",
              "2                                That I did. That I did.       neutral\n",
              "3          So lets talk a little bit about your duties.       neutral\n",
              "4                                 My duties?  All right.      surprise\n",
              "...                                                  ...           ...\n",
              "10556                                         You or me?       neutral\n",
              "10557  I got it. Uh, Joey, women don't have Adam's ap...   non-neutral\n",
              "10558               You guys are messing with me, right?      surprise\n",
              "10559                                              Yeah.       neutral\n",
              "10560  That was a good one. For a second there, I was...   non-neutral\n",
              "\n",
              "[10561 rows x 2 columns]"
            ]
          },
          "metadata": {
            "tags": []
          },
          "execution_count": 15
        }
      ]
    },
    {
      "cell_type": "code",
      "metadata": {
        "id": "NSZiX2-rN9Op",
        "colab_type": "code",
        "colab": {
          "base_uri": "https://localhost:8080/",
          "height": 176
        },
        "outputId": "73ceb2a9-f987-4423-c72c-346e849b89d5"
      },
      "source": [
        "#take a look at the value_counts of emotion which are our labels\n",
        "train_df['train_emotion'].value_counts()"
      ],
      "execution_count": 16,
      "outputs": [
        {
          "output_type": "execute_result",
          "data": {
            "text/plain": [
              "neutral        4752\n",
              "non-neutral    2017\n",
              "joy            1283\n",
              "surprise       1220\n",
              "anger           513\n",
              "sadness         351\n",
              "disgust         240\n",
              "fear            185\n",
              "Name: train_emotion, dtype: int64"
            ]
          },
          "metadata": {
            "tags": []
          },
          "execution_count": 16
        }
      ]
    },
    {
      "cell_type": "code",
      "metadata": {
        "id": "EcGXvjofOBUB",
        "colab_type": "code",
        "colab": {
          "base_uri": "https://localhost:8080/",
          "height": 87
        },
        "outputId": "acd67b75-5452-4984-ccc5-40d9f70dfc6d"
      },
      "source": [
        "#removing the unnecessary stopwords\n",
        "!pip install nlppreprocess\n",
        "from nlppreprocess import NLP\n",
        "\n",
        "nlp = NLP()\n",
        "\n",
        "train_df['train_Sentences_clean'] = train_df['train_Sentences'].apply(nlp.process)\n"
      ],
      "execution_count": 17,
      "outputs": [
        {
          "output_type": "stream",
          "text": [
            "Collecting nlppreprocess\n",
            "  Downloading https://files.pythonhosted.org/packages/66/8d/3a0584b924248c865a8e7ee04a93175551ebcaf156ee9b73346cd62446e6/nlppreprocess-1.0.2-py3-none-any.whl\n",
            "Installing collected packages: nlppreprocess\n",
            "Successfully installed nlppreprocess-1.0.2\n"
          ],
          "name": "stdout"
        }
      ]
    },
    {
      "cell_type": "code",
      "metadata": {
        "id": "ImgpgAabOL8y",
        "colab_type": "code",
        "colab": {
          "base_uri": "https://localhost:8080/",
          "height": 406
        },
        "outputId": "e4770767-0c63-4fd4-e9b8-793d0383e6a5"
      },
      "source": [
        "train_df"
      ],
      "execution_count": 18,
      "outputs": [
        {
          "output_type": "execute_result",
          "data": {
            "text/html": [
              "<div>\n",
              "<style scoped>\n",
              "    .dataframe tbody tr th:only-of-type {\n",
              "        vertical-align: middle;\n",
              "    }\n",
              "\n",
              "    .dataframe tbody tr th {\n",
              "        vertical-align: top;\n",
              "    }\n",
              "\n",
              "    .dataframe thead th {\n",
              "        text-align: right;\n",
              "    }\n",
              "</style>\n",
              "<table border=\"1\" class=\"dataframe\">\n",
              "  <thead>\n",
              "    <tr style=\"text-align: right;\">\n",
              "      <th></th>\n",
              "      <th>train_Sentences</th>\n",
              "      <th>train_emotion</th>\n",
              "      <th>train_Sentences_clean</th>\n",
              "    </tr>\n",
              "  </thead>\n",
              "  <tbody>\n",
              "    <tr>\n",
              "      <th>0</th>\n",
              "      <td>also I was the point person on my companys tr...</td>\n",
              "      <td>neutral</td>\n",
              "      <td>also point person my company s transition from...</td>\n",
              "    </tr>\n",
              "    <tr>\n",
              "      <th>1</th>\n",
              "      <td>You mustve had your hands full.</td>\n",
              "      <td>neutral</td>\n",
              "      <td>You must ve had your hands full</td>\n",
              "    </tr>\n",
              "    <tr>\n",
              "      <th>2</th>\n",
              "      <td>That I did. That I did.</td>\n",
              "      <td>neutral</td>\n",
              "      <td>did  did</td>\n",
              "    </tr>\n",
              "    <tr>\n",
              "      <th>3</th>\n",
              "      <td>So lets talk a little bit about your duties.</td>\n",
              "      <td>neutral</td>\n",
              "      <td>let s talk little bit about your duties</td>\n",
              "    </tr>\n",
              "    <tr>\n",
              "      <th>4</th>\n",
              "      <td>My duties?  All right.</td>\n",
              "      <td>surprise</td>\n",
              "      <td>My duties  right</td>\n",
              "    </tr>\n",
              "    <tr>\n",
              "      <th>...</th>\n",
              "      <td>...</td>\n",
              "      <td>...</td>\n",
              "      <td>...</td>\n",
              "    </tr>\n",
              "    <tr>\n",
              "      <th>10556</th>\n",
              "      <td>You or me?</td>\n",
              "      <td>neutral</td>\n",
              "      <td>You me</td>\n",
              "    </tr>\n",
              "    <tr>\n",
              "      <th>10557</th>\n",
              "      <td>I got it. Uh, Joey, women don't have Adam's ap...</td>\n",
              "      <td>non-neutral</td>\n",
              "      <td>got it  Uh  Joey  women not Adam s apples</td>\n",
              "    </tr>\n",
              "    <tr>\n",
              "      <th>10558</th>\n",
              "      <td>You guys are messing with me, right?</td>\n",
              "      <td>surprise</td>\n",
              "      <td>You guys are messing with me  right</td>\n",
              "    </tr>\n",
              "    <tr>\n",
              "      <th>10559</th>\n",
              "      <td>Yeah.</td>\n",
              "      <td>neutral</td>\n",
              "      <td>Yeah</td>\n",
              "    </tr>\n",
              "    <tr>\n",
              "      <th>10560</th>\n",
              "      <td>That was a good one. For a second there, I was...</td>\n",
              "      <td>non-neutral</td>\n",
              "      <td>good one  second there  like   whoa</td>\n",
              "    </tr>\n",
              "  </tbody>\n",
              "</table>\n",
              "<p>10561 rows × 3 columns</p>\n",
              "</div>"
            ],
            "text/plain": [
              "                                         train_Sentences  ...                              train_Sentences_clean\n",
              "0      also I was the point person on my companys tr...  ...  also point person my company s transition from...\n",
              "1                       You mustve had your hands full.  ...                   You must ve had your hands full \n",
              "2                                That I did. That I did.  ...                                          did  did \n",
              "3          So lets talk a little bit about your duties.  ...           let s talk little bit about your duties \n",
              "4                                 My duties?  All right.  ...                                  My duties  right \n",
              "...                                                  ...  ...                                                ...\n",
              "10556                                         You or me?  ...                                            You me \n",
              "10557  I got it. Uh, Joey, women don't have Adam's ap...  ...         got it  Uh  Joey  women not Adam s apples \n",
              "10558               You guys are messing with me, right?  ...               You guys are messing with me  right \n",
              "10559                                              Yeah.  ...                                              Yeah \n",
              "10560  That was a good one. For a second there, I was...  ...              good one  second there  like   whoa  \n",
              "\n",
              "[10561 rows x 3 columns]"
            ]
          },
          "metadata": {
            "tags": []
          },
          "execution_count": 18
        }
      ]
    },
    {
      "cell_type": "markdown",
      "metadata": {
        "id": "VLp7KkCvck6c",
        "colab_type": "text"
      },
      "source": [
        "Test 데이터 처리하기"
      ]
    },
    {
      "cell_type": "code",
      "metadata": {
        "id": "V95hMR-icXlF",
        "colab_type": "code",
        "colab": {}
      },
      "source": [
        "test_sentence = []\n",
        "test_labels = []\n",
        "\n",
        "for a in range(len(test_json_code)):\n",
        "  c = test_json_code[a]\n",
        "  for b in range(len(c)):\n",
        "    test_sentence.append(test_json_code[a][b]['utterance'])\n",
        "    test_labels.append(test_json_code[a][b]['emotion'])\n"
      ],
      "execution_count": 19,
      "outputs": []
    },
    {
      "cell_type": "code",
      "metadata": {
        "id": "8sYynxXBcXhj",
        "colab_type": "code",
        "colab": {}
      },
      "source": [
        "#convert the list into data frame for better analysis\n",
        "test_df = pd.DataFrame(list(zip(test_sentence, test_labels)), \n",
        "               columns =['test_Sentences', 'test_emotion']) "
      ],
      "execution_count": 20,
      "outputs": []
    },
    {
      "cell_type": "code",
      "metadata": {
        "id": "DbzQ6TXLcXd4",
        "colab_type": "code",
        "colab": {
          "base_uri": "https://localhost:8080/",
          "height": 406
        },
        "outputId": "4e9a88ce-13dd-4f05-c66f-9fbfc0d3e977"
      },
      "source": [
        "test_df"
      ],
      "execution_count": 21,
      "outputs": [
        {
          "output_type": "execute_result",
          "data": {
            "text/html": [
              "<div>\n",
              "<style scoped>\n",
              "    .dataframe tbody tr th:only-of-type {\n",
              "        vertical-align: middle;\n",
              "    }\n",
              "\n",
              "    .dataframe tbody tr th {\n",
              "        vertical-align: top;\n",
              "    }\n",
              "\n",
              "    .dataframe thead th {\n",
              "        text-align: right;\n",
              "    }\n",
              "</style>\n",
              "<table border=\"1\" class=\"dataframe\">\n",
              "  <thead>\n",
              "    <tr style=\"text-align: right;\">\n",
              "      <th></th>\n",
              "      <th>test_Sentences</th>\n",
              "      <th>test_emotion</th>\n",
              "    </tr>\n",
              "  </thead>\n",
              "  <tbody>\n",
              "    <tr>\n",
              "      <th>0</th>\n",
              "      <td>Why do all youre coffee mugs have numbers on ...</td>\n",
              "      <td>surprise</td>\n",
              "    </tr>\n",
              "    <tr>\n",
              "      <th>1</th>\n",
              "      <td>Oh. Thats so Monica can keep track. That way ...</td>\n",
              "      <td>non-neutral</td>\n",
              "    </tr>\n",
              "    <tr>\n",
              "      <th>2</th>\n",
              "      <td>Y'know what?</td>\n",
              "      <td>neutral</td>\n",
              "    </tr>\n",
              "    <tr>\n",
              "      <th>3</th>\n",
              "      <td>It didnt.</td>\n",
              "      <td>neutral</td>\n",
              "    </tr>\n",
              "    <tr>\n",
              "      <th>4</th>\n",
              "      <td>Okay, so what you used to have with Rachel, is...</td>\n",
              "      <td>joy</td>\n",
              "    </tr>\n",
              "    <tr>\n",
              "      <th>...</th>\n",
              "      <td>...</td>\n",
              "      <td>...</td>\n",
              "    </tr>\n",
              "    <tr>\n",
              "      <th>2759</th>\n",
              "      <td>Hey, why dont you guys go get portraits done ...</td>\n",
              "      <td>neutral</td>\n",
              "    </tr>\n",
              "    <tr>\n",
              "      <th>2760</th>\n",
              "      <td>Thats a good idea! I bet they have one of tho...</td>\n",
              "      <td>joy</td>\n",
              "    </tr>\n",
              "    <tr>\n",
              "      <th>2761</th>\n",
              "      <td>Yeah thats great! Next to that, Chandler won...</td>\n",
              "      <td>neutral</td>\n",
              "    </tr>\n",
              "    <tr>\n",
              "      <th>2762</th>\n",
              "      <td>Chandler what do you say?</td>\n",
              "      <td>neutral</td>\n",
              "    </tr>\n",
              "    <tr>\n",
              "      <th>2763</th>\n",
              "      <td>All right, but I should warn you, Im not goin...</td>\n",
              "      <td>neutral</td>\n",
              "    </tr>\n",
              "  </tbody>\n",
              "</table>\n",
              "<p>2764 rows × 2 columns</p>\n",
              "</div>"
            ],
            "text/plain": [
              "                                         test_Sentences test_emotion\n",
              "0     Why do all youre coffee mugs have numbers on ...     surprise\n",
              "1     Oh. Thats so Monica can keep track. That way ...  non-neutral\n",
              "2                                          Y'know what?      neutral\n",
              "3                                            It didnt.      neutral\n",
              "4     Okay, so what you used to have with Rachel, is...          joy\n",
              "...                                                 ...          ...\n",
              "2759  Hey, why dont you guys go get portraits done ...      neutral\n",
              "2760  Thats a good idea! I bet they have one of tho...          joy\n",
              "2761  Yeah thats great! Next to that, Chandler won...      neutral\n",
              "2762                          Chandler what do you say?      neutral\n",
              "2763  All right, but I should warn you, Im not goin...      neutral\n",
              "\n",
              "[2764 rows x 2 columns]"
            ]
          },
          "metadata": {
            "tags": []
          },
          "execution_count": 21
        }
      ]
    },
    {
      "cell_type": "code",
      "metadata": {
        "id": "rwE8fDmtcXcu",
        "colab_type": "code",
        "colab": {
          "base_uri": "https://localhost:8080/",
          "height": 176
        },
        "outputId": "12a04573-139c-4d8c-d38d-dfa1455561a6"
      },
      "source": [
        "#take a look at the value_counts of emotion which are our labels\n",
        "test_df['test_emotion'].value_counts()"
      ],
      "execution_count": 22,
      "outputs": [
        {
          "output_type": "execute_result",
          "data": {
            "text/plain": [
              "neutral        1287\n",
              "non-neutral     541\n",
              "joy             304\n",
              "surprise        286\n",
              "anger           161\n",
              "sadness          85\n",
              "disgust          68\n",
              "fear             32\n",
              "Name: test_emotion, dtype: int64"
            ]
          },
          "metadata": {
            "tags": []
          },
          "execution_count": 22
        }
      ]
    },
    {
      "cell_type": "code",
      "metadata": {
        "id": "J-Ewg68lcXZx",
        "colab_type": "code",
        "colab": {
          "base_uri": "https://localhost:8080/",
          "height": 34
        },
        "outputId": "a03980b6-225c-479f-91ce-5d25b9f6396c"
      },
      "source": [
        "#removing the unnecessary stopwords\n",
        "!pip install nlppreprocess\n",
        "from nlppreprocess import NLP\n",
        "\n",
        "nlp = NLP()\n",
        "\n",
        "test_df['test_Sentences_clean'] = test_df['test_Sentences'].apply(nlp.process)\n"
      ],
      "execution_count": 23,
      "outputs": [
        {
          "output_type": "stream",
          "text": [
            "Requirement already satisfied: nlppreprocess in /usr/local/lib/python3.6/dist-packages (1.0.2)\n"
          ],
          "name": "stdout"
        }
      ]
    },
    {
      "cell_type": "code",
      "metadata": {
        "id": "POXn3dU6cXWk",
        "colab_type": "code",
        "colab": {
          "base_uri": "https://localhost:8080/",
          "height": 406
        },
        "outputId": "d003d45e-3ac2-4f63-e14f-3fecf381d10f"
      },
      "source": [
        "test_df"
      ],
      "execution_count": 24,
      "outputs": [
        {
          "output_type": "execute_result",
          "data": {
            "text/html": [
              "<div>\n",
              "<style scoped>\n",
              "    .dataframe tbody tr th:only-of-type {\n",
              "        vertical-align: middle;\n",
              "    }\n",
              "\n",
              "    .dataframe tbody tr th {\n",
              "        vertical-align: top;\n",
              "    }\n",
              "\n",
              "    .dataframe thead th {\n",
              "        text-align: right;\n",
              "    }\n",
              "</style>\n",
              "<table border=\"1\" class=\"dataframe\">\n",
              "  <thead>\n",
              "    <tr style=\"text-align: right;\">\n",
              "      <th></th>\n",
              "      <th>test_Sentences</th>\n",
              "      <th>test_emotion</th>\n",
              "      <th>test_Sentences_clean</th>\n",
              "    </tr>\n",
              "  </thead>\n",
              "  <tbody>\n",
              "    <tr>\n",
              "      <th>0</th>\n",
              "      <td>Why do all youre coffee mugs have numbers on ...</td>\n",
              "      <td>surprise</td>\n",
              "      <td>you re coffee mugs numbers bottom</td>\n",
              "    </tr>\n",
              "    <tr>\n",
              "      <th>1</th>\n",
              "      <td>Oh. Thats so Monica can keep track. That way ...</td>\n",
              "      <td>non-neutral</td>\n",
              "      <td>Oh  That s Monica can keep track  way one them...</td>\n",
              "    </tr>\n",
              "    <tr>\n",
              "      <th>2</th>\n",
              "      <td>Y'know what?</td>\n",
              "      <td>neutral</td>\n",
              "      <td>Y know what</td>\n",
              "    </tr>\n",
              "    <tr>\n",
              "      <th>3</th>\n",
              "      <td>It didnt.</td>\n",
              "      <td>neutral</td>\n",
              "      <td>didn t</td>\n",
              "    </tr>\n",
              "    <tr>\n",
              "      <th>4</th>\n",
              "      <td>Okay, so what you used to have with Rachel, is...</td>\n",
              "      <td>joy</td>\n",
              "      <td>Okay  what you used with Rachel  what I ve got...</td>\n",
              "    </tr>\n",
              "    <tr>\n",
              "      <th>...</th>\n",
              "      <td>...</td>\n",
              "      <td>...</td>\n",
              "      <td>...</td>\n",
              "    </tr>\n",
              "    <tr>\n",
              "      <th>2759</th>\n",
              "      <td>Hey, why dont you guys go get portraits done ...</td>\n",
              "      <td>neutral</td>\n",
              "      <td>Hey  don t you guys go get portraits done by p...</td>\n",
              "    </tr>\n",
              "    <tr>\n",
              "      <th>2760</th>\n",
              "      <td>Thats a good idea! I bet they have one of tho...</td>\n",
              "      <td>joy</td>\n",
              "      <td>That s good idea  bet they one those wind mach...</td>\n",
              "    </tr>\n",
              "    <tr>\n",
              "      <th>2761</th>\n",
              "      <td>Yeah thats great! Next to that, Chandler won...</td>\n",
              "      <td>neutral</td>\n",
              "      <td>Yeah that s great  Next that  Chandler won t l...</td>\n",
              "    </tr>\n",
              "    <tr>\n",
              "      <th>2762</th>\n",
              "      <td>Chandler what do you say?</td>\n",
              "      <td>neutral</td>\n",
              "      <td>Chandler what you say</td>\n",
              "    </tr>\n",
              "    <tr>\n",
              "      <th>2763</th>\n",
              "      <td>All right, but I should warn you, Im not goin...</td>\n",
              "      <td>neutral</td>\n",
              "      <td>right  but should warn you  I m not going  I m...</td>\n",
              "    </tr>\n",
              "  </tbody>\n",
              "</table>\n",
              "<p>2764 rows × 3 columns</p>\n",
              "</div>"
            ],
            "text/plain": [
              "                                         test_Sentences  ...                               test_Sentences_clean\n",
              "0     Why do all youre coffee mugs have numbers on ...  ...                 you re coffee mugs numbers bottom \n",
              "1     Oh. Thats so Monica can keep track. That way ...  ...  Oh  That s Monica can keep track  way one them...\n",
              "2                                          Y'know what?  ...                                       Y know what \n",
              "3                                            It didnt.  ...                                            didn t \n",
              "4     Okay, so what you used to have with Rachel, is...  ...  Okay  what you used with Rachel  what I ve got...\n",
              "...                                                 ...  ...                                                ...\n",
              "2759  Hey, why dont you guys go get portraits done ...  ...  Hey  don t you guys go get portraits done by p...\n",
              "2760  Thats a good idea! I bet they have one of tho...  ...  That s good idea  bet they one those wind mach...\n",
              "2761  Yeah thats great! Next to that, Chandler won...  ...  Yeah that s great  Next that  Chandler won t l...\n",
              "2762                          Chandler what do you say?  ...                             Chandler what you say \n",
              "2763  All right, but I should warn you, Im not goin...  ...  right  but should warn you  I m not going  I m...\n",
              "\n",
              "[2764 rows x 3 columns]"
            ]
          },
          "metadata": {
            "tags": []
          },
          "execution_count": 24
        }
      ]
    },
    {
      "cell_type": "markdown",
      "metadata": {
        "id": "ZSryvX9mdQ2s",
        "colab_type": "text"
      },
      "source": [
        "dev 데이터 처리하기"
      ]
    },
    {
      "cell_type": "code",
      "metadata": {
        "id": "PrG94dJldN1v",
        "colab_type": "code",
        "colab": {}
      },
      "source": [
        "dev_sentence = []\n",
        "dev_labels = []\n",
        "\n",
        "for a in range(len(dev_json_code)):\n",
        "  c = dev_json_code[a]\n",
        "  for b in range(len(c)):\n",
        "    dev_sentence.append(dev_json_code[a][b]['utterance'])\n",
        "    dev_labels.append(dev_json_code[a][b]['emotion'])\n"
      ],
      "execution_count": 25,
      "outputs": []
    },
    {
      "cell_type": "code",
      "metadata": {
        "id": "FufUojW8dNz3",
        "colab_type": "code",
        "colab": {}
      },
      "source": [
        "#convert the list into data frame for better analysis\n",
        "dev_df = pd.DataFrame(list(zip(dev_sentence, dev_labels)), \n",
        "               columns =['dev_Sentences', 'dev_emotion']) "
      ],
      "execution_count": 26,
      "outputs": []
    },
    {
      "cell_type": "code",
      "metadata": {
        "id": "1bYJMMQDdNwZ",
        "colab_type": "code",
        "colab": {
          "base_uri": "https://localhost:8080/",
          "height": 406
        },
        "outputId": "8cef52ee-b1ed-48f6-e59d-8e501a71056e"
      },
      "source": [
        "dev_df"
      ],
      "execution_count": 27,
      "outputs": [
        {
          "output_type": "execute_result",
          "data": {
            "text/html": [
              "<div>\n",
              "<style scoped>\n",
              "    .dataframe tbody tr th:only-of-type {\n",
              "        vertical-align: middle;\n",
              "    }\n",
              "\n",
              "    .dataframe tbody tr th {\n",
              "        vertical-align: top;\n",
              "    }\n",
              "\n",
              "    .dataframe thead th {\n",
              "        text-align: right;\n",
              "    }\n",
              "</style>\n",
              "<table border=\"1\" class=\"dataframe\">\n",
              "  <thead>\n",
              "    <tr style=\"text-align: right;\">\n",
              "      <th></th>\n",
              "      <th>dev_Sentences</th>\n",
              "      <th>dev_emotion</th>\n",
              "    </tr>\n",
              "  </thead>\n",
              "  <tbody>\n",
              "    <tr>\n",
              "      <th>0</th>\n",
              "      <td>Oh my God, hes lost it. Hes totally lost it.</td>\n",
              "      <td>non-neutral</td>\n",
              "    </tr>\n",
              "    <tr>\n",
              "      <th>1</th>\n",
              "      <td>What?</td>\n",
              "      <td>surprise</td>\n",
              "    </tr>\n",
              "    <tr>\n",
              "      <th>2</th>\n",
              "      <td>Or! Or, we could go to the bank, close our acc...</td>\n",
              "      <td>neutral</td>\n",
              "    </tr>\n",
              "    <tr>\n",
              "      <th>3</th>\n",
              "      <td>Youre a genius!</td>\n",
              "      <td>joy</td>\n",
              "    </tr>\n",
              "    <tr>\n",
              "      <th>4</th>\n",
              "      <td>Aww, man, now we wont be bank buddies!</td>\n",
              "      <td>sadness</td>\n",
              "    </tr>\n",
              "    <tr>\n",
              "      <th>...</th>\n",
              "      <td>...</td>\n",
              "      <td>...</td>\n",
              "    </tr>\n",
              "    <tr>\n",
              "      <th>1173</th>\n",
              "      <td>No.</td>\n",
              "      <td>sadness</td>\n",
              "    </tr>\n",
              "    <tr>\n",
              "      <th>1174</th>\n",
              "      <td>What? Oh my God! Im gonna miss you so much!</td>\n",
              "      <td>sadness</td>\n",
              "    </tr>\n",
              "    <tr>\n",
              "      <th>1175</th>\n",
              "      <td>Im gonna miss you!</td>\n",
              "      <td>sadness</td>\n",
              "    </tr>\n",
              "    <tr>\n",
              "      <th>1176</th>\n",
              "      <td>I mean its the end of an era!</td>\n",
              "      <td>sadness</td>\n",
              "    </tr>\n",
              "    <tr>\n",
              "      <th>1177</th>\n",
              "      <td>I know!</td>\n",
              "      <td>sadness</td>\n",
              "    </tr>\n",
              "  </tbody>\n",
              "</table>\n",
              "<p>1178 rows × 2 columns</p>\n",
              "</div>"
            ],
            "text/plain": [
              "                                          dev_Sentences  dev_emotion\n",
              "0        Oh my God, hes lost it. Hes totally lost it.  non-neutral\n",
              "1                                                 What?     surprise\n",
              "2     Or! Or, we could go to the bank, close our acc...      neutral\n",
              "3                                      Youre a genius!          joy\n",
              "4               Aww, man, now we wont be bank buddies!      sadness\n",
              "...                                                 ...          ...\n",
              "1173                                                No.      sadness\n",
              "1174       What? Oh my God! Im gonna miss you so much!      sadness\n",
              "1175                                Im gonna miss you!      sadness\n",
              "1176                     I mean its the end of an era!      sadness\n",
              "1177                                            I know!      sadness\n",
              "\n",
              "[1178 rows x 2 columns]"
            ]
          },
          "metadata": {
            "tags": []
          },
          "execution_count": 27
        }
      ]
    },
    {
      "cell_type": "code",
      "metadata": {
        "id": "pZ6m2o2GdNu7",
        "colab_type": "code",
        "colab": {
          "base_uri": "https://localhost:8080/",
          "height": 176
        },
        "outputId": "4b692fcb-1b93-42da-f0f7-bb2123707867"
      },
      "source": [
        "#take a look at the value_counts of emotion which are our labels\n",
        "dev_df['dev_emotion'].value_counts()"
      ],
      "execution_count": 28,
      "outputs": [
        {
          "output_type": "execute_result",
          "data": {
            "text/plain": [
              "neutral        491\n",
              "non-neutral    214\n",
              "surprise       151\n",
              "joy            123\n",
              "anger           85\n",
              "sadness         62\n",
              "fear            29\n",
              "disgust         23\n",
              "Name: dev_emotion, dtype: int64"
            ]
          },
          "metadata": {
            "tags": []
          },
          "execution_count": 28
        }
      ]
    },
    {
      "cell_type": "code",
      "metadata": {
        "id": "_0d7LiD8dNuB",
        "colab_type": "code",
        "colab": {
          "base_uri": "https://localhost:8080/",
          "height": 34
        },
        "outputId": "3149562a-beaf-44dd-e2ff-dcbf27c22a43"
      },
      "source": [
        "#removing the unnecessary stopwords\n",
        "!pip install nlppreprocess\n",
        "from nlppreprocess import NLP\n",
        "\n",
        "nlp = NLP()\n",
        "\n",
        "dev_df['dev_Sentences_clean'] = dev_df['dev_Sentences'].apply(nlp.process)\n"
      ],
      "execution_count": 29,
      "outputs": [
        {
          "output_type": "stream",
          "text": [
            "Requirement already satisfied: nlppreprocess in /usr/local/lib/python3.6/dist-packages (1.0.2)\n"
          ],
          "name": "stdout"
        }
      ]
    },
    {
      "cell_type": "code",
      "metadata": {
        "id": "PJ5FmU3PdNpj",
        "colab_type": "code",
        "colab": {
          "base_uri": "https://localhost:8080/",
          "height": 406
        },
        "outputId": "55bd6abf-761a-44c9-a30f-509e74186cd2"
      },
      "source": [
        "dev_df"
      ],
      "execution_count": 30,
      "outputs": [
        {
          "output_type": "execute_result",
          "data": {
            "text/html": [
              "<div>\n",
              "<style scoped>\n",
              "    .dataframe tbody tr th:only-of-type {\n",
              "        vertical-align: middle;\n",
              "    }\n",
              "\n",
              "    .dataframe tbody tr th {\n",
              "        vertical-align: top;\n",
              "    }\n",
              "\n",
              "    .dataframe thead th {\n",
              "        text-align: right;\n",
              "    }\n",
              "</style>\n",
              "<table border=\"1\" class=\"dataframe\">\n",
              "  <thead>\n",
              "    <tr style=\"text-align: right;\">\n",
              "      <th></th>\n",
              "      <th>dev_Sentences</th>\n",
              "      <th>dev_emotion</th>\n",
              "      <th>dev_Sentences_clean</th>\n",
              "    </tr>\n",
              "  </thead>\n",
              "  <tbody>\n",
              "    <tr>\n",
              "      <th>0</th>\n",
              "      <td>Oh my God, hes lost it. Hes totally lost it.</td>\n",
              "      <td>non-neutral</td>\n",
              "      <td>Oh my God  he s lost it  He s totally lost it</td>\n",
              "    </tr>\n",
              "    <tr>\n",
              "      <th>1</th>\n",
              "      <td>What?</td>\n",
              "      <td>surprise</td>\n",
              "      <td>What</td>\n",
              "    </tr>\n",
              "    <tr>\n",
              "      <th>2</th>\n",
              "      <td>Or! Or, we could go to the bank, close our acc...</td>\n",
              "      <td>neutral</td>\n",
              "      <td>Or  Or  we could go bank  close our accounts a...</td>\n",
              "    </tr>\n",
              "    <tr>\n",
              "      <th>3</th>\n",
              "      <td>Youre a genius!</td>\n",
              "      <td>joy</td>\n",
              "      <td>You re genius</td>\n",
              "    </tr>\n",
              "    <tr>\n",
              "      <th>4</th>\n",
              "      <td>Aww, man, now we wont be bank buddies!</td>\n",
              "      <td>sadness</td>\n",
              "      <td>Aww  man  now we won t bank buddies</td>\n",
              "    </tr>\n",
              "    <tr>\n",
              "      <th>...</th>\n",
              "      <td>...</td>\n",
              "      <td>...</td>\n",
              "      <td>...</td>\n",
              "    </tr>\n",
              "    <tr>\n",
              "      <th>1173</th>\n",
              "      <td>No.</td>\n",
              "      <td>sadness</td>\n",
              "      <td>No</td>\n",
              "    </tr>\n",
              "    <tr>\n",
              "      <th>1174</th>\n",
              "      <td>What? Oh my God! Im gonna miss you so much!</td>\n",
              "      <td>sadness</td>\n",
              "      <td>What  Oh my God  I m gonna miss you much</td>\n",
              "    </tr>\n",
              "    <tr>\n",
              "      <th>1175</th>\n",
              "      <td>Im gonna miss you!</td>\n",
              "      <td>sadness</td>\n",
              "      <td>I m gonna miss you</td>\n",
              "    </tr>\n",
              "    <tr>\n",
              "      <th>1176</th>\n",
              "      <td>I mean its the end of an era!</td>\n",
              "      <td>sadness</td>\n",
              "      <td>mean it s end era</td>\n",
              "    </tr>\n",
              "    <tr>\n",
              "      <th>1177</th>\n",
              "      <td>I know!</td>\n",
              "      <td>sadness</td>\n",
              "      <td>know</td>\n",
              "    </tr>\n",
              "  </tbody>\n",
              "</table>\n",
              "<p>1178 rows × 3 columns</p>\n",
              "</div>"
            ],
            "text/plain": [
              "                                          dev_Sentences  ...                                dev_Sentences_clean\n",
              "0        Oh my God, hes lost it. Hes totally lost it.  ...     Oh my God  he s lost it  He s totally lost it \n",
              "1                                                 What?  ...                                              What \n",
              "2     Or! Or, we could go to the bank, close our acc...  ...  Or  Or  we could go bank  close our accounts a...\n",
              "3                                      Youre a genius!  ...                                     You re genius \n",
              "4               Aww, man, now we wont be bank buddies!  ...               Aww  man  now we won t bank buddies \n",
              "...                                                 ...  ...                                                ...\n",
              "1173                                                No.  ...                                                No \n",
              "1174       What? Oh my God! Im gonna miss you so much!  ...          What  Oh my God  I m gonna miss you much \n",
              "1175                                Im gonna miss you!  ...                                I m gonna miss you \n",
              "1176                     I mean its the end of an era!  ...                                 mean it s end era \n",
              "1177                                            I know!  ...                                              know \n",
              "\n",
              "[1178 rows x 3 columns]"
            ]
          },
          "metadata": {
            "tags": []
          },
          "execution_count": 30
        }
      ]
    },
    {
      "cell_type": "code",
      "metadata": {
        "id": "n_-4ZADMcXTQ",
        "colab_type": "code",
        "colab": {}
      },
      "source": [
        ""
      ],
      "execution_count": 30,
      "outputs": []
    },
    {
      "cell_type": "code",
      "metadata": {
        "id": "tRJEI91pOMEh",
        "colab_type": "code",
        "colab": {
          "base_uri": "https://localhost:8080/",
          "height": 52
        },
        "outputId": "ad9b3253-ef79-44eb-a4c0-b7b9896d2994"
      },
      "source": [
        "#import necesaary functions for lemmatization.\n",
        "import nltk\n",
        "from nltk.stem import WordNetLemmatizer \n",
        "nltk.download('wordnet')\n",
        "lemmatizer = WordNetLemmatizer() "
      ],
      "execution_count": 31,
      "outputs": [
        {
          "output_type": "stream",
          "text": [
            "[nltk_data] Downloading package wordnet to /root/nltk_data...\n",
            "[nltk_data]   Unzipping corpora/wordnet.zip.\n"
          ],
          "name": "stdout"
        }
      ]
    },
    {
      "cell_type": "code",
      "metadata": {
        "id": "TxuqAivcOMJx",
        "colab_type": "code",
        "colab": {}
      },
      "source": [
        "import numpy as np\n",
        "import tensorflow as tf\n",
        "from tensorflow import keras\n",
        "from tensorflow.keras import layers\n",
        "from tensorflow.keras.preprocessing.text import Tokenizer\n",
        "from tensorflow.keras.preprocessing.sequence import pad_sequences\n"
      ],
      "execution_count": 32,
      "outputs": []
    },
    {
      "cell_type": "code",
      "metadata": {
        "id": "68fMCYQLd7vh",
        "colab_type": "code",
        "colab": {}
      },
      "source": [
        ""
      ],
      "execution_count": 32,
      "outputs": []
    },
    {
      "cell_type": "markdown",
      "metadata": {
        "id": "ZJXStFPAeGA7",
        "colab_type": "text"
      },
      "source": [
        "Train 데이터 처리"
      ]
    },
    {
      "cell_type": "code",
      "metadata": {
        "id": "xlYdKXqNOMHZ",
        "colab_type": "code",
        "colab": {
          "base_uri": "https://localhost:8080/",
          "height": 52
        },
        "outputId": "e9a6e3c1-aa3b-4cdd-8ade-660baa6e7983"
      },
      "source": [
        "#toxenising the sentences to numbers and then padding the text to size of max len text.\n",
        "train_sentences_list=[]\n",
        "train_labels_list =[]\n",
        "\n",
        "for i in range(len(train_df.train_emotion)):\n",
        "\n",
        "# lemmatize to cluster similar words like good, better into one word 'good', generalize tense as it doesn't have much impact on sentiment.\n",
        "    train_sentences_list.append(lemmatizer.lemmatize(train_df['train_Sentences_clean'][i]))\n",
        "    train_labels_list.append(train_df.train_emotion[i])\n",
        "\n",
        "print(train_sentences_list[0])\n",
        "print(train_labels_list[0])"
      ],
      "execution_count": 33,
      "outputs": [
        {
          "output_type": "stream",
          "text": [
            "also point person my company s transition from KL  GR  system \n",
            "neutral\n"
          ],
          "name": "stdout"
        }
      ]
    },
    {
      "cell_type": "code",
      "metadata": {
        "id": "5vumwqIYOMB9",
        "colab_type": "code",
        "colab": {
          "base_uri": "https://localhost:8080/",
          "height": 105
        },
        "outputId": "d3338939-5969-44ae-e945-00e137c29e12"
      },
      "source": [
        "#toxenising the sentences to numbers and then padding the text to size of max len text.\n",
        "tokenizer = Tokenizer(num_words = 20000, oov_token= 'OOV')\n",
        "tokenizer.fit_on_texts(train_sentences_list)\n",
        "\n",
        "train_sequences = tokenizer.texts_to_sequences(train_sentences_list)\n",
        "train_padded = pad_sequences(train_sequences, maxlen=50, padding= 'post', truncating='post')\n",
        "\n",
        "train_padded[0]"
      ],
      "execution_count": 34,
      "outputs": [
        {
          "output_type": "execute_result",
          "data": {
            "text/plain": [
              "array([ 374,  707,  404,   18, 1079,    3, 2688,  104, 2689, 2690,  842,\n",
              "          0,    0,    0,    0,    0,    0,    0,    0,    0,    0,    0,\n",
              "          0,    0,    0,    0,    0,    0,    0,    0,    0,    0,    0,\n",
              "          0,    0,    0,    0,    0,    0,    0,    0,    0,    0,    0,\n",
              "          0,    0,    0,    0,    0,    0], dtype=int32)"
            ]
          },
          "metadata": {
            "tags": []
          },
          "execution_count": 34
        }
      ]
    },
    {
      "cell_type": "code",
      "metadata": {
        "id": "vCUVMdqaOjuT",
        "colab_type": "code",
        "colab": {
          "base_uri": "https://localhost:8080/",
          "height": 34
        },
        "outputId": "8eaee8a2-b3f5-448f-8ff1-ca9fec8fb922"
      },
      "source": [
        "#converting the emotion labels into numbers.\n",
        "dic = {'anger':0, 'disgust':1, 'fear':2, 'joy':3, 'neutral':4, 'non-neutral':5, 'sadness':6, 'surprise':7}\n",
        "\n",
        "train_labels_list_to_num = [dic.get(n, n) for n in train_labels_list]\n",
        "\n",
        "train_labels_list_to_num[:10]"
      ],
      "execution_count": 35,
      "outputs": [
        {
          "output_type": "execute_result",
          "data": {
            "text/plain": [
              "[4, 4, 4, 4, 7, 4, 4, 4, 4, 4]"
            ]
          },
          "metadata": {
            "tags": []
          },
          "execution_count": 35
        }
      ]
    },
    {
      "cell_type": "markdown",
      "metadata": {
        "id": "_z-Qsec-e985",
        "colab_type": "text"
      },
      "source": [
        "Test 데이터 처리"
      ]
    },
    {
      "cell_type": "code",
      "metadata": {
        "id": "50wVdW78e8dI",
        "colab_type": "code",
        "colab": {
          "base_uri": "https://localhost:8080/",
          "height": 52
        },
        "outputId": "10485633-41e6-440f-f09c-2af53eb62c7b"
      },
      "source": [
        "#toxenising the sentences to numbers and then padding the text to size of max len text.\n",
        "test_sentences_list=[]\n",
        "test_labels_list =[]\n",
        "\n",
        "for i in range(len(test_df.test_emotion)):\n",
        "\n",
        "# lemmatize to cluster similar words like good, better into one word 'good', generalize tense as it doesn't have much impact on sentiment.\n",
        "    test_sentences_list.append(lemmatizer.lemmatize(test_df['test_Sentences_clean'][i]))\n",
        "    test_labels_list.append(test_df.test_emotion[i])\n",
        "\n",
        "print(test_sentences_list[0])\n",
        "print(test_labels_list[0])"
      ],
      "execution_count": 36,
      "outputs": [
        {
          "output_type": "stream",
          "text": [
            "you re coffee mugs numbers bottom \n",
            "surprise\n"
          ],
          "name": "stdout"
        }
      ]
    },
    {
      "cell_type": "code",
      "metadata": {
        "id": "V1T3dSvxe8Yi",
        "colab_type": "code",
        "colab": {
          "base_uri": "https://localhost:8080/",
          "height": 105
        },
        "outputId": "94849c7b-974f-43f1-d926-1faabe4cdb40"
      },
      "source": [
        "#toxenising the sentences to numbers and then padding the text to size of max len text.\n",
        "tokenizer = Tokenizer(num_words = 20000, oov_token= 'OOV')\n",
        "tokenizer.fit_on_texts(test_sentences_list)\n",
        "\n",
        "test_sequences = tokenizer.texts_to_sequences(test_sentences_list)\n",
        "test_padded = pad_sequences(test_sequences, maxlen=50, padding= 'post', truncating='post')\n",
        "\n",
        "test_padded[0]"
      ],
      "execution_count": 37,
      "outputs": [
        {
          "output_type": "execute_result",
          "data": {
            "text/plain": [
              "array([   2,   23,  171, 1183, 1184,  758,    0,    0,    0,    0,    0,\n",
              "          0,    0,    0,    0,    0,    0,    0,    0,    0,    0,    0,\n",
              "          0,    0,    0,    0,    0,    0,    0,    0,    0,    0,    0,\n",
              "          0,    0,    0,    0,    0,    0,    0,    0,    0,    0,    0,\n",
              "          0,    0,    0,    0,    0,    0], dtype=int32)"
            ]
          },
          "metadata": {
            "tags": []
          },
          "execution_count": 37
        }
      ]
    },
    {
      "cell_type": "code",
      "metadata": {
        "id": "o7gIYUrLe8XP",
        "colab_type": "code",
        "colab": {
          "base_uri": "https://localhost:8080/",
          "height": 34
        },
        "outputId": "faa72223-5e32-48c3-bdd5-ed7d5d8b830c"
      },
      "source": [
        "#converting the emotion labels into numbers.\n",
        "#dic = {'anger':0, 'disgust':1, 'fear':2, 'joy':3, 'neutral':4, 'non-neutral':5, 'sadness':6, 'surprise':7}\n",
        "\n",
        "test_labels_list_to_num = [dic.get(n, n) for n in test_labels_list]\n",
        "\n",
        "test_labels_list_to_num[:10]"
      ],
      "execution_count": 38,
      "outputs": [
        {
          "output_type": "execute_result",
          "data": {
            "text/plain": [
              "[7, 5, 4, 4, 3, 7, 3, 4, 5, 0]"
            ]
          },
          "metadata": {
            "tags": []
          },
          "execution_count": 38
        }
      ]
    },
    {
      "cell_type": "markdown",
      "metadata": {
        "id": "2Fb51BuaWXHr",
        "colab_type": "text"
      },
      "source": [
        "Dev 데이터 처리"
      ]
    },
    {
      "cell_type": "code",
      "metadata": {
        "id": "AtD8ZbYke8Vz",
        "colab_type": "code",
        "colab": {
          "base_uri": "https://localhost:8080/",
          "height": 52
        },
        "outputId": "a0381b49-2afe-4093-be83-a870b266b705"
      },
      "source": [
        "#toxenising the sentences to numbers and then padding the text to size of max len text.\n",
        "dev_sentences_list=[]\n",
        "dev_labels_list =[]\n",
        "\n",
        "for i in range(len(dev_df.dev_emotion)):\n",
        "\n",
        "# lemmatize to cluster similar words like good, better into one word 'good', generalize tense as it doesn't have much impact on sentiment.\n",
        "    dev_sentences_list.append(lemmatizer.lemmatize(dev_df['dev_Sentences_clean'][i]))\n",
        "    dev_labels_list.append(dev_df.dev_emotion[i])\n",
        "\n",
        "print(dev_sentences_list[0])\n",
        "print(dev_labels_list[0])"
      ],
      "execution_count": 39,
      "outputs": [
        {
          "output_type": "stream",
          "text": [
            "Oh my God  he s lost it  He s totally lost it \n",
            "non-neutral\n"
          ],
          "name": "stdout"
        }
      ]
    },
    {
      "cell_type": "code",
      "metadata": {
        "id": "M1SpafG5e8QT",
        "colab_type": "code",
        "colab": {
          "base_uri": "https://localhost:8080/",
          "height": 87
        },
        "outputId": "1a3854af-eb45-47bc-c885-1f7c2de50de9"
      },
      "source": [
        "#toxenising the sentences to numbers and then padding the text to size of max len text.\n",
        "tokenizer = Tokenizer(num_words = 20000, oov_token= 'OOV')\n",
        "tokenizer.fit_on_texts(dev_sentences_list)\n",
        "\n",
        "dev_sequences = tokenizer.texts_to_sequences(dev_sentences_list)\n",
        "dev_padded = pad_sequences(dev_sequences, maxlen=50, padding= 'post', truncating='post')\n",
        "\n",
        "dev_padded[0]"
      ],
      "execution_count": 40,
      "outputs": [
        {
          "output_type": "execute_result",
          "data": {
            "text/plain": [
              "array([  7,  18,  48,  64,   3, 317,   6,  64,   3, 218, 317,   6,   0,\n",
              "         0,   0,   0,   0,   0,   0,   0,   0,   0,   0,   0,   0,   0,\n",
              "         0,   0,   0,   0,   0,   0,   0,   0,   0,   0,   0,   0,   0,\n",
              "         0,   0,   0,   0,   0,   0,   0,   0,   0,   0,   0], dtype=int32)"
            ]
          },
          "metadata": {
            "tags": []
          },
          "execution_count": 40
        }
      ]
    },
    {
      "cell_type": "code",
      "metadata": {
        "id": "yKR_tM3FXOEL",
        "colab_type": "code",
        "colab": {
          "base_uri": "https://localhost:8080/",
          "height": 34
        },
        "outputId": "a71b00b3-8406-487a-a263-cdd21089aff1"
      },
      "source": [
        "#converting the emotion labels into numbers.\n",
        "#dic = {'anger':0, 'disgust':1, 'fear':2, 'joy':3, 'neutral':4, 'non-neutral':5, 'sadness':6, 'surprise':7}\n",
        "\n",
        "dev_labels_list_to_num = [dic.get(n, n) for n in dev_labels_list]\n",
        "\n",
        "dev_labels_list_to_num[:10]"
      ],
      "execution_count": 41,
      "outputs": [
        {
          "output_type": "execute_result",
          "data": {
            "text/plain": [
              "[5, 7, 4, 3, 6, 4, 4, 3, 4, 7]"
            ]
          },
          "metadata": {
            "tags": []
          },
          "execution_count": 41
        }
      ]
    },
    {
      "cell_type": "code",
      "metadata": {
        "id": "tdWAkWtcXN_m",
        "colab_type": "code",
        "colab": {}
      },
      "source": [
        ""
      ],
      "execution_count": 41,
      "outputs": []
    },
    {
      "cell_type": "code",
      "metadata": {
        "id": "sUbROzeWXN-b",
        "colab_type": "code",
        "colab": {}
      },
      "source": [
        ""
      ],
      "execution_count": 41,
      "outputs": []
    },
    {
      "cell_type": "code",
      "metadata": {
        "id": "oigOHNPIXN6F",
        "colab_type": "code",
        "colab": {}
      },
      "source": [
        ""
      ],
      "execution_count": 41,
      "outputs": []
    },
    {
      "cell_type": "code",
      "metadata": {
        "id": "a_t6SSOeOj4u",
        "colab_type": "code",
        "colab": {
          "base_uri": "https://localhost:8080/",
          "height": 34
        },
        "outputId": "4fde5540-82c8-4117-a3e1-5811fa7bf2e5"
      },
      "source": [
        "#required modules.\n",
        "import tensorflow as tf\n",
        "import keras\n",
        "import random\n",
        "import numpy as np\n",
        "from tensorflow.keras.utils import to_categorical\n",
        "from tensorflow.keras import regularizers\n",
        "from tensorflow.keras.layers import Embedding, LSTM, Dense, Dropout, Bidirectional\n",
        "from tensorflow.keras.models import Sequential\n",
        "from tensorflow.keras.optimizers import Adam\n"
      ],
      "execution_count": 42,
      "outputs": [
        {
          "output_type": "stream",
          "text": [
            "Using TensorFlow backend.\n"
          ],
          "name": "stderr"
        }
      ]
    },
    {
      "cell_type": "code",
      "metadata": {
        "id": "4rChA77XOj27",
        "colab_type": "code",
        "colab": {}
      },
      "source": [
        "vocab_size = 30000\n",
        "embedding_dim = 128\n",
        "\n",
        "\n",
        "#our main model.\n",
        "model = Sequential()\n",
        "model.add(Embedding(vocab_size+1, embedding_dim, input_length=30))\n",
        "model.add(Bidirectional(LSTM(120, return_sequences= True)))\n",
        "model.add(Bidirectional(LSTM(120)))\n",
        "model.add(Dense(32, activation='relu'))\n",
        "model.add(Dropout(0.5))\n",
        "model.add(Dense(8, activation='softmax'))\n"
      ],
      "execution_count": 43,
      "outputs": []
    },
    {
      "cell_type": "code",
      "metadata": {
        "id": "6bmj1q4_Oj0W",
        "colab_type": "code",
        "colab": {
          "base_uri": "https://localhost:8080/",
          "height": 372
        },
        "outputId": "3a5a75fa-79f3-4a23-cd12-d3759de591ad"
      },
      "source": [
        "#summary\n",
        "model.summary()"
      ],
      "execution_count": 44,
      "outputs": [
        {
          "output_type": "stream",
          "text": [
            "Model: \"sequential\"\n",
            "_________________________________________________________________\n",
            "Layer (type)                 Output Shape              Param #   \n",
            "=================================================================\n",
            "embedding (Embedding)        (None, 30, 128)           3840128   \n",
            "_________________________________________________________________\n",
            "bidirectional (Bidirectional (None, 30, 240)           239040    \n",
            "_________________________________________________________________\n",
            "bidirectional_1 (Bidirection (None, 240)               346560    \n",
            "_________________________________________________________________\n",
            "dense (Dense)                (None, 32)                7712      \n",
            "_________________________________________________________________\n",
            "dropout (Dropout)            (None, 32)                0         \n",
            "_________________________________________________________________\n",
            "dense_1 (Dense)              (None, 8)                 264       \n",
            "=================================================================\n",
            "Total params: 4,433,704\n",
            "Trainable params: 4,433,704\n",
            "Non-trainable params: 0\n",
            "_________________________________________________________________\n"
          ],
          "name": "stdout"
        }
      ]
    },
    {
      "cell_type": "code",
      "metadata": {
        "id": "3t3vl2PYOjx7",
        "colab_type": "code",
        "colab": {}
      },
      "source": [
        "#compile\n",
        "model.compile(optimizer='adam', loss=tf.keras.losses.CategoricalCrossentropy(), metrics = ['accuracy'])"
      ],
      "execution_count": 45,
      "outputs": []
    },
    {
      "cell_type": "markdown",
      "metadata": {
        "id": "Afv_pH3ngDua",
        "colab_type": "text"
      },
      "source": [
        "train / one hot encoding"
      ]
    },
    {
      "cell_type": "code",
      "metadata": {
        "id": "O_nwoM_pOL_w",
        "colab_type": "code",
        "colab": {}
      },
      "source": [
        "#One hot encoding the vectors to fit in the model.\n",
        "from keras.utils.np_utils import to_categorical   \n",
        "\n",
        "train_categorical_labels = to_categorical(np.array(train_labels_list_to_num), num_classes=8)"
      ],
      "execution_count": 46,
      "outputs": []
    },
    {
      "cell_type": "code",
      "metadata": {
        "id": "4Lpqw4B4QsSU",
        "colab_type": "code",
        "colab": {
          "base_uri": "https://localhost:8080/",
          "height": 141
        },
        "outputId": "dbbf7d17-030f-4566-f37c-c560d900aacb"
      },
      "source": [
        "train_categorical_labels"
      ],
      "execution_count": 47,
      "outputs": [
        {
          "output_type": "execute_result",
          "data": {
            "text/plain": [
              "array([[0., 0., 0., ..., 0., 0., 0.],\n",
              "       [0., 0., 0., ..., 0., 0., 0.],\n",
              "       [0., 0., 0., ..., 0., 0., 0.],\n",
              "       ...,\n",
              "       [0., 0., 0., ..., 0., 0., 1.],\n",
              "       [0., 0., 0., ..., 0., 0., 0.],\n",
              "       [0., 0., 0., ..., 1., 0., 0.]], dtype=float32)"
            ]
          },
          "metadata": {
            "tags": []
          },
          "execution_count": 47
        }
      ]
    },
    {
      "cell_type": "markdown",
      "metadata": {
        "id": "dEOIP9vdgEon",
        "colab_type": "text"
      },
      "source": [
        "test / one hot encoding"
      ]
    },
    {
      "cell_type": "code",
      "metadata": {
        "id": "ucwqcNw2YCEp",
        "colab_type": "code",
        "colab": {}
      },
      "source": [
        "#One hot encoding the vectors to fit in the model.\n",
        "from keras.utils.np_utils import to_categorical   \n",
        "\n",
        "test_categorical_labels = to_categorical(np.array(test_labels_list_to_num), num_classes=8)"
      ],
      "execution_count": 48,
      "outputs": []
    },
    {
      "cell_type": "code",
      "metadata": {
        "id": "taLSVAgdRtkd",
        "colab_type": "code",
        "colab": {
          "base_uri": "https://localhost:8080/",
          "height": 141
        },
        "outputId": "fe4673b3-efb2-4265-ecb8-dba9fbf1ff7c"
      },
      "source": [
        "test_categorical_labels"
      ],
      "execution_count": 49,
      "outputs": [
        {
          "output_type": "execute_result",
          "data": {
            "text/plain": [
              "array([[0., 0., 0., ..., 0., 0., 1.],\n",
              "       [0., 0., 0., ..., 1., 0., 0.],\n",
              "       [0., 0., 0., ..., 0., 0., 0.],\n",
              "       ...,\n",
              "       [0., 0., 0., ..., 0., 0., 0.],\n",
              "       [0., 0., 0., ..., 0., 0., 0.],\n",
              "       [0., 0., 0., ..., 0., 0., 0.]], dtype=float32)"
            ]
          },
          "metadata": {
            "tags": []
          },
          "execution_count": 49
        }
      ]
    },
    {
      "cell_type": "markdown",
      "metadata": {
        "id": "joB2vqZmdSG3",
        "colab_type": "text"
      },
      "source": [
        "dev / one hot encoding"
      ]
    },
    {
      "cell_type": "code",
      "metadata": {
        "id": "ECz0rgakgXy-",
        "colab_type": "code",
        "colab": {}
      },
      "source": [
        "#One hot encoding the vectors to fit in the model.\n",
        "from keras.utils.np_utils import to_categorical   \n",
        "\n",
        "dev_categorical_labels = to_categorical(np.array(dev_labels_list_to_num), num_classes=8)"
      ],
      "execution_count": 50,
      "outputs": []
    },
    {
      "cell_type": "code",
      "metadata": {
        "id": "_ClM-jDCdWLg",
        "colab_type": "code",
        "colab": {
          "base_uri": "https://localhost:8080/",
          "height": 141
        },
        "outputId": "21447961-4105-406f-c4d5-05acad59af93"
      },
      "source": [
        "dev_categorical_labels"
      ],
      "execution_count": 51,
      "outputs": [
        {
          "output_type": "execute_result",
          "data": {
            "text/plain": [
              "array([[0., 0., 0., ..., 1., 0., 0.],\n",
              "       [0., 0., 0., ..., 0., 0., 1.],\n",
              "       [0., 0., 0., ..., 0., 0., 0.],\n",
              "       ...,\n",
              "       [0., 0., 0., ..., 0., 1., 0.],\n",
              "       [0., 0., 0., ..., 0., 1., 0.],\n",
              "       [0., 0., 0., ..., 0., 1., 0.]], dtype=float32)"
            ]
          },
          "metadata": {
            "tags": []
          },
          "execution_count": 51
        }
      ]
    },
    {
      "cell_type": "code",
      "metadata": {
        "id": "08lk6JmfdWJs",
        "colab_type": "code",
        "colab": {}
      },
      "source": [
        ""
      ],
      "execution_count": 51,
      "outputs": []
    },
    {
      "cell_type": "markdown",
      "metadata": {
        "id": "I3C_HCggdvFv",
        "colab_type": "text"
      },
      "source": [
        "train + test"
      ]
    },
    {
      "cell_type": "code",
      "metadata": {
        "id": "iOmKYRYHO7DS",
        "colab_type": "code",
        "colab": {
          "base_uri": "https://localhost:8080/",
          "height": 1000
        },
        "outputId": "7994dc1f-ea9a-49e2-df9d-5dfea34523c0"
      },
      "source": [
        "#train + test\n",
        "\n",
        "#history = model.fit(train_padded, train_categorical_labels, validation_data = (test_padded, test_categorical_labels), epochs=1)\n",
        "#history = model.fit(train_padded, train_categorical_labels, validation_data = (test_padded, test_categorical_labels), epochs=2)\n",
        "#history = model.fit(train_padded, train_categorical_labels, validation_data = (test_padded, test_categorical_labels), epochs=3)\n",
        "#history = model.fit(train_padded, train_categorical_labels, validation_data = (test_padded, test_categorical_labels), epochs=15)\n",
        "history = model.fit(train_padded, train_categorical_labels, validation_data = (test_padded, test_categorical_labels), epochs=100)\n",
        "\n",
        "#model.evaluate()"
      ],
      "execution_count": 52,
      "outputs": [
        {
          "output_type": "stream",
          "text": [
            "Epoch 1/100\n",
            "WARNING:tensorflow:Model was constructed with shape (None, 30) for input Tensor(\"embedding_input:0\", shape=(None, 30), dtype=float32), but it was called on an input with incompatible shape (None, 50).\n",
            "WARNING:tensorflow:Model was constructed with shape (None, 30) for input Tensor(\"embedding_input:0\", shape=(None, 30), dtype=float32), but it was called on an input with incompatible shape (None, 50).\n",
            "331/331 [==============================] - ETA: 0s - loss: 1.6755 - accuracy: 0.4143WARNING:tensorflow:Model was constructed with shape (None, 30) for input Tensor(\"embedding_input:0\", shape=(None, 30), dtype=float32), but it was called on an input with incompatible shape (None, 50).\n",
            "331/331 [==============================] - 105s 318ms/step - loss: 1.6755 - accuracy: 0.4143 - val_loss: 1.5783 - val_accuracy: 0.4664\n",
            "Epoch 2/100\n",
            "331/331 [==============================] - 104s 314ms/step - loss: 1.4932 - accuracy: 0.4782 - val_loss: 1.6562 - val_accuracy: 0.4479\n",
            "Epoch 3/100\n",
            "331/331 [==============================] - 103s 311ms/step - loss: 1.3815 - accuracy: 0.5226 - val_loss: 1.7317 - val_accuracy: 0.3723\n",
            "Epoch 4/100\n",
            "331/331 [==============================] - 102s 309ms/step - loss: 1.2893 - accuracy: 0.5577 - val_loss: 1.8851 - val_accuracy: 0.3922\n",
            "Epoch 5/100\n",
            "331/331 [==============================] - 101s 304ms/step - loss: 1.2094 - accuracy: 0.5844 - val_loss: 1.8865 - val_accuracy: 0.3622\n",
            "Epoch 6/100\n",
            "331/331 [==============================] - 98s 297ms/step - loss: 1.1237 - accuracy: 0.6111 - val_loss: 2.0184 - val_accuracy: 0.3462\n",
            "Epoch 7/100\n",
            "331/331 [==============================] - 97s 292ms/step - loss: 1.0559 - accuracy: 0.6355 - val_loss: 2.1312 - val_accuracy: 0.3390\n",
            "Epoch 8/100\n",
            "331/331 [==============================] - 96s 291ms/step - loss: 0.9864 - accuracy: 0.6577 - val_loss: 2.0743 - val_accuracy: 0.3810\n",
            "Epoch 9/100\n",
            "331/331 [==============================] - 96s 291ms/step - loss: 0.9212 - accuracy: 0.6772 - val_loss: 2.2196 - val_accuracy: 0.3712\n",
            "Epoch 10/100\n",
            "331/331 [==============================] - 96s 291ms/step - loss: 0.8643 - accuracy: 0.6879 - val_loss: 2.6164 - val_accuracy: 0.3535\n",
            "Epoch 11/100\n",
            "331/331 [==============================] - 97s 293ms/step - loss: 0.8322 - accuracy: 0.7005 - val_loss: 2.6971 - val_accuracy: 0.3430\n",
            "Epoch 12/100\n",
            "331/331 [==============================] - 96s 290ms/step - loss: 0.7773 - accuracy: 0.7183 - val_loss: 2.8764 - val_accuracy: 0.3596\n",
            "Epoch 13/100\n",
            "331/331 [==============================] - 94s 284ms/step - loss: 0.7694 - accuracy: 0.7280 - val_loss: 3.0226 - val_accuracy: 0.3459\n",
            "Epoch 14/100\n",
            "331/331 [==============================] - 93s 281ms/step - loss: 0.7216 - accuracy: 0.7426 - val_loss: 3.1995 - val_accuracy: 0.3506\n",
            "Epoch 15/100\n",
            "331/331 [==============================] - 94s 285ms/step - loss: 0.6893 - accuracy: 0.7512 - val_loss: 3.2827 - val_accuracy: 0.3433\n",
            "Epoch 16/100\n",
            "331/331 [==============================] - 93s 282ms/step - loss: 0.6770 - accuracy: 0.7598 - val_loss: 3.6611 - val_accuracy: 0.3517\n",
            "Epoch 17/100\n",
            "331/331 [==============================] - 96s 290ms/step - loss: 0.6419 - accuracy: 0.7713 - val_loss: 3.9478 - val_accuracy: 0.3466\n",
            "Epoch 18/100\n",
            "331/331 [==============================] - 93s 280ms/step - loss: 0.6326 - accuracy: 0.7689 - val_loss: 3.9710 - val_accuracy: 0.3564\n",
            "Epoch 19/100\n",
            "331/331 [==============================] - 94s 283ms/step - loss: 0.6046 - accuracy: 0.7856 - val_loss: 4.0473 - val_accuracy: 0.3426\n",
            "Epoch 20/100\n",
            "331/331 [==============================] - 94s 283ms/step - loss: 0.5802 - accuracy: 0.7911 - val_loss: 4.3061 - val_accuracy: 0.3520\n",
            "Epoch 21/100\n",
            "331/331 [==============================] - 94s 283ms/step - loss: 0.5773 - accuracy: 0.7896 - val_loss: 4.1725 - val_accuracy: 0.3499\n",
            "Epoch 22/100\n",
            "331/331 [==============================] - 92s 278ms/step - loss: 0.5454 - accuracy: 0.8011 - val_loss: 4.6727 - val_accuracy: 0.3495\n",
            "Epoch 23/100\n",
            "331/331 [==============================] - 92s 279ms/step - loss: 0.5424 - accuracy: 0.8052 - val_loss: 4.6342 - val_accuracy: 0.3433\n",
            "Epoch 24/100\n",
            "331/331 [==============================] - 92s 278ms/step - loss: 0.5076 - accuracy: 0.8188 - val_loss: 4.8518 - val_accuracy: 0.3379\n",
            "Epoch 25/100\n",
            "331/331 [==============================] - 92s 277ms/step - loss: 0.5049 - accuracy: 0.8204 - val_loss: 4.9580 - val_accuracy: 0.3401\n",
            "Epoch 26/100\n",
            "331/331 [==============================] - 91s 275ms/step - loss: 0.4857 - accuracy: 0.8256 - val_loss: 5.3210 - val_accuracy: 0.3202\n",
            "Epoch 27/100\n",
            "331/331 [==============================] - 90s 273ms/step - loss: 0.4793 - accuracy: 0.8270 - val_loss: 5.3189 - val_accuracy: 0.3253\n",
            "Epoch 28/100\n",
            "331/331 [==============================] - 95s 287ms/step - loss: 0.4570 - accuracy: 0.8335 - val_loss: 5.4612 - val_accuracy: 0.3300\n",
            "Epoch 29/100\n",
            "331/331 [==============================] - 95s 287ms/step - loss: 0.4577 - accuracy: 0.8321 - val_loss: 5.6955 - val_accuracy: 0.3325\n",
            "Epoch 30/100\n",
            "331/331 [==============================] - 94s 284ms/step - loss: 0.4428 - accuracy: 0.8387 - val_loss: 5.6287 - val_accuracy: 0.3397\n",
            "Epoch 31/100\n",
            "331/331 [==============================] - 93s 281ms/step - loss: 0.4226 - accuracy: 0.8439 - val_loss: 6.2180 - val_accuracy: 0.3325\n",
            "Epoch 32/100\n",
            "331/331 [==============================] - 94s 284ms/step - loss: 0.4048 - accuracy: 0.8510 - val_loss: 6.4340 - val_accuracy: 0.3336\n",
            "Epoch 33/100\n",
            "331/331 [==============================] - 93s 282ms/step - loss: 0.4188 - accuracy: 0.8485 - val_loss: 6.0084 - val_accuracy: 0.3325\n",
            "Epoch 34/100\n",
            "331/331 [==============================] - 92s 279ms/step - loss: 0.3986 - accuracy: 0.8586 - val_loss: 6.5231 - val_accuracy: 0.3318\n",
            "Epoch 35/100\n",
            "331/331 [==============================] - 92s 278ms/step - loss: 0.4009 - accuracy: 0.8560 - val_loss: 6.2319 - val_accuracy: 0.3292\n",
            "Epoch 36/100\n",
            "331/331 [==============================] - 93s 280ms/step - loss: 0.3732 - accuracy: 0.8642 - val_loss: 6.5800 - val_accuracy: 0.3426\n",
            "Epoch 37/100\n",
            "331/331 [==============================] - 94s 285ms/step - loss: 0.3716 - accuracy: 0.8647 - val_loss: 6.6271 - val_accuracy: 0.3365\n",
            "Epoch 38/100\n",
            "331/331 [==============================] - 93s 282ms/step - loss: 0.3713 - accuracy: 0.8672 - val_loss: 6.6551 - val_accuracy: 0.3245\n",
            "Epoch 39/100\n",
            "331/331 [==============================] - 92s 277ms/step - loss: 0.3471 - accuracy: 0.8755 - val_loss: 7.0081 - val_accuracy: 0.3198\n",
            "Epoch 40/100\n",
            "331/331 [==============================] - 92s 277ms/step - loss: 0.3437 - accuracy: 0.8774 - val_loss: 7.2813 - val_accuracy: 0.3238\n",
            "Epoch 41/100\n",
            "331/331 [==============================] - 95s 286ms/step - loss: 0.3369 - accuracy: 0.8761 - val_loss: 6.9823 - val_accuracy: 0.3245\n",
            "Epoch 42/100\n",
            "331/331 [==============================] - 96s 289ms/step - loss: 0.3135 - accuracy: 0.8880 - val_loss: 7.4336 - val_accuracy: 0.3184\n",
            "Epoch 43/100\n",
            "331/331 [==============================] - 96s 290ms/step - loss: 0.3101 - accuracy: 0.8883 - val_loss: 7.5978 - val_accuracy: 0.3343\n",
            "Epoch 44/100\n",
            "331/331 [==============================] - 95s 286ms/step - loss: 0.3283 - accuracy: 0.8781 - val_loss: 7.5191 - val_accuracy: 0.3267\n",
            "Epoch 45/100\n",
            "331/331 [==============================] - 94s 283ms/step - loss: 0.3151 - accuracy: 0.8865 - val_loss: 7.7451 - val_accuracy: 0.3158\n",
            "Epoch 46/100\n",
            "331/331 [==============================] - 93s 281ms/step - loss: 0.3036 - accuracy: 0.8893 - val_loss: 7.9948 - val_accuracy: 0.3253\n",
            "Epoch 47/100\n",
            "331/331 [==============================] - 95s 287ms/step - loss: 0.2959 - accuracy: 0.8930 - val_loss: 8.1277 - val_accuracy: 0.3148\n",
            "Epoch 48/100\n",
            "331/331 [==============================] - 95s 287ms/step - loss: 0.3025 - accuracy: 0.8920 - val_loss: 8.0844 - val_accuracy: 0.3227\n",
            "Epoch 49/100\n",
            "331/331 [==============================] - 95s 288ms/step - loss: 0.3063 - accuracy: 0.8903 - val_loss: 7.7137 - val_accuracy: 0.3256\n",
            "Epoch 50/100\n",
            "331/331 [==============================] - 93s 282ms/step - loss: 0.2993 - accuracy: 0.8961 - val_loss: 7.7229 - val_accuracy: 0.3195\n",
            "Epoch 51/100\n",
            "331/331 [==============================] - 95s 286ms/step - loss: 0.2723 - accuracy: 0.9011 - val_loss: 8.1777 - val_accuracy: 0.3274\n",
            "Epoch 52/100\n",
            "331/331 [==============================] - 92s 277ms/step - loss: 0.2799 - accuracy: 0.8992 - val_loss: 8.2664 - val_accuracy: 0.3205\n",
            "Epoch 53/100\n",
            "331/331 [==============================] - 94s 285ms/step - loss: 0.2848 - accuracy: 0.8979 - val_loss: 8.3954 - val_accuracy: 0.3213\n",
            "Epoch 54/100\n",
            "331/331 [==============================] - 93s 281ms/step - loss: 0.2634 - accuracy: 0.9035 - val_loss: 8.6063 - val_accuracy: 0.3231\n",
            "Epoch 55/100\n",
            "331/331 [==============================] - 94s 284ms/step - loss: 0.2703 - accuracy: 0.9040 - val_loss: 8.5519 - val_accuracy: 0.3130\n",
            "Epoch 56/100\n",
            "331/331 [==============================] - 94s 285ms/step - loss: 0.2635 - accuracy: 0.9018 - val_loss: 8.4157 - val_accuracy: 0.3224\n",
            "Epoch 57/100\n",
            "331/331 [==============================] - 94s 284ms/step - loss: 0.2540 - accuracy: 0.9071 - val_loss: 8.4889 - val_accuracy: 0.3151\n",
            "Epoch 58/100\n",
            "331/331 [==============================] - 94s 283ms/step - loss: 0.2450 - accuracy: 0.9117 - val_loss: 8.8148 - val_accuracy: 0.3227\n",
            "Epoch 59/100\n",
            "331/331 [==============================] - 96s 289ms/step - loss: 0.2489 - accuracy: 0.9071 - val_loss: 8.9778 - val_accuracy: 0.3115\n",
            "Epoch 60/100\n",
            "331/331 [==============================] - 97s 294ms/step - loss: 0.2392 - accuracy: 0.9106 - val_loss: 9.0500 - val_accuracy: 0.3209\n",
            "Epoch 61/100\n",
            "331/331 [==============================] - 98s 295ms/step - loss: 0.2372 - accuracy: 0.9131 - val_loss: 9.3918 - val_accuracy: 0.3249\n",
            "Epoch 62/100\n",
            "331/331 [==============================] - 98s 296ms/step - loss: 0.2702 - accuracy: 0.9044 - val_loss: 8.9492 - val_accuracy: 0.3256\n",
            "Epoch 63/100\n",
            "331/331 [==============================] - 95s 288ms/step - loss: 0.2543 - accuracy: 0.9091 - val_loss: 9.1493 - val_accuracy: 0.3144\n",
            "Epoch 64/100\n",
            "331/331 [==============================] - 95s 286ms/step - loss: 0.2481 - accuracy: 0.9112 - val_loss: 9.0344 - val_accuracy: 0.3216\n",
            "Epoch 65/100\n",
            "331/331 [==============================] - 93s 282ms/step - loss: 0.2451 - accuracy: 0.9113 - val_loss: 9.4416 - val_accuracy: 0.3151\n",
            "Epoch 66/100\n",
            "331/331 [==============================] - 93s 280ms/step - loss: 0.2304 - accuracy: 0.9163 - val_loss: 9.4599 - val_accuracy: 0.3213\n",
            "Epoch 67/100\n",
            "331/331 [==============================] - 94s 284ms/step - loss: 0.2187 - accuracy: 0.9205 - val_loss: 9.9904 - val_accuracy: 0.3158\n",
            "Epoch 68/100\n",
            "331/331 [==============================] - 94s 283ms/step - loss: 0.2250 - accuracy: 0.9189 - val_loss: 9.8693 - val_accuracy: 0.3155\n",
            "Epoch 69/100\n",
            "331/331 [==============================] - 93s 281ms/step - loss: 0.2384 - accuracy: 0.9144 - val_loss: 9.8774 - val_accuracy: 0.3115\n",
            "Epoch 70/100\n",
            "331/331 [==============================] - 94s 285ms/step - loss: 0.2472 - accuracy: 0.9118 - val_loss: 9.4890 - val_accuracy: 0.3191\n",
            "Epoch 71/100\n",
            "331/331 [==============================] - 93s 281ms/step - loss: 0.2476 - accuracy: 0.9114 - val_loss: 9.1445 - val_accuracy: 0.3245\n",
            "Epoch 72/100\n",
            "331/331 [==============================] - 93s 281ms/step - loss: 0.2234 - accuracy: 0.9149 - val_loss: 9.5844 - val_accuracy: 0.3166\n",
            "Epoch 73/100\n",
            "331/331 [==============================] - 96s 290ms/step - loss: 0.2186 - accuracy: 0.9212 - val_loss: 9.7417 - val_accuracy: 0.3144\n",
            "Epoch 74/100\n",
            "331/331 [==============================] - 98s 295ms/step - loss: 0.2082 - accuracy: 0.9222 - val_loss: 10.3018 - val_accuracy: 0.3213\n",
            "Epoch 75/100\n",
            "331/331 [==============================] - 100s 301ms/step - loss: 0.2173 - accuracy: 0.9207 - val_loss: 10.4051 - val_accuracy: 0.3119\n",
            "Epoch 76/100\n",
            "331/331 [==============================] - 102s 308ms/step - loss: 0.2375 - accuracy: 0.9150 - val_loss: 9.9057 - val_accuracy: 0.3057\n",
            "Epoch 77/100\n",
            "331/331 [==============================] - 103s 311ms/step - loss: 0.2319 - accuracy: 0.9162 - val_loss: 9.3092 - val_accuracy: 0.3162\n",
            "Epoch 78/100\n",
            "331/331 [==============================] - 104s 313ms/step - loss: 0.2356 - accuracy: 0.9156 - val_loss: 9.4349 - val_accuracy: 0.3137\n",
            "Epoch 79/100\n",
            "331/331 [==============================] - 104s 315ms/step - loss: 0.2111 - accuracy: 0.9212 - val_loss: 10.0516 - val_accuracy: 0.3177\n",
            "Epoch 80/100\n",
            "331/331 [==============================] - 104s 314ms/step - loss: 0.2021 - accuracy: 0.9208 - val_loss: 10.1475 - val_accuracy: 0.3130\n",
            "Epoch 81/100\n",
            "331/331 [==============================] - 104s 314ms/step - loss: 0.2112 - accuracy: 0.9230 - val_loss: 10.4285 - val_accuracy: 0.3209\n",
            "Epoch 82/100\n",
            "331/331 [==============================] - 103s 310ms/step - loss: 0.2079 - accuracy: 0.9230 - val_loss: 10.4291 - val_accuracy: 0.3187\n",
            "Epoch 83/100\n",
            "331/331 [==============================] - 101s 304ms/step - loss: 0.2018 - accuracy: 0.9242 - val_loss: 10.4267 - val_accuracy: 0.3104\n",
            "Epoch 84/100\n",
            "331/331 [==============================] - 98s 297ms/step - loss: 0.2096 - accuracy: 0.9211 - val_loss: 10.9061 - val_accuracy: 0.3213\n",
            "Epoch 85/100\n",
            "331/331 [==============================] - 98s 296ms/step - loss: 0.2348 - accuracy: 0.9182 - val_loss: 11.0087 - val_accuracy: 0.3046\n",
            "Epoch 86/100\n",
            "331/331 [==============================] - 97s 292ms/step - loss: 0.2350 - accuracy: 0.9153 - val_loss: 10.0452 - val_accuracy: 0.3231\n",
            "Epoch 87/100\n",
            "331/331 [==============================] - 95s 287ms/step - loss: 0.2229 - accuracy: 0.9202 - val_loss: 10.3863 - val_accuracy: 0.3144\n",
            "Epoch 88/100\n",
            "331/331 [==============================] - 95s 288ms/step - loss: 0.2101 - accuracy: 0.9238 - val_loss: 10.4371 - val_accuracy: 0.3238\n",
            "Epoch 89/100\n",
            "331/331 [==============================] - 96s 291ms/step - loss: 0.2094 - accuracy: 0.9207 - val_loss: 10.5371 - val_accuracy: 0.3166\n",
            "Epoch 90/100\n",
            "331/331 [==============================] - 95s 286ms/step - loss: 0.2021 - accuracy: 0.9241 - val_loss: 10.5551 - val_accuracy: 0.3162\n",
            "Epoch 91/100\n",
            "331/331 [==============================] - 97s 292ms/step - loss: 0.2060 - accuracy: 0.9217 - val_loss: 10.6238 - val_accuracy: 0.3224\n",
            "Epoch 92/100\n",
            "331/331 [==============================] - 94s 284ms/step - loss: 0.2083 - accuracy: 0.9217 - val_loss: 10.8843 - val_accuracy: 0.3086\n",
            "Epoch 93/100\n",
            "331/331 [==============================] - 94s 283ms/step - loss: 0.2103 - accuracy: 0.9218 - val_loss: 10.9067 - val_accuracy: 0.3086\n",
            "Epoch 94/100\n",
            "331/331 [==============================] - 92s 278ms/step - loss: 0.2106 - accuracy: 0.9219 - val_loss: 10.5333 - val_accuracy: 0.3097\n",
            "Epoch 95/100\n",
            "331/331 [==============================] - 93s 282ms/step - loss: 0.2030 - accuracy: 0.9231 - val_loss: 11.1210 - val_accuracy: 0.3234\n",
            "Epoch 96/100\n",
            "331/331 [==============================] - 93s 282ms/step - loss: 0.2029 - accuracy: 0.9229 - val_loss: 11.0901 - val_accuracy: 0.3274\n",
            "Epoch 97/100\n",
            "331/331 [==============================] - 92s 277ms/step - loss: 0.2017 - accuracy: 0.9242 - val_loss: 11.2060 - val_accuracy: 0.3104\n",
            "Epoch 98/100\n",
            "331/331 [==============================] - 93s 280ms/step - loss: 0.2065 - accuracy: 0.9244 - val_loss: 11.2022 - val_accuracy: 0.3133\n",
            "Epoch 99/100\n",
            "331/331 [==============================] - 95s 287ms/step - loss: 0.1961 - accuracy: 0.9252 - val_loss: 11.2406 - val_accuracy: 0.3097\n",
            "Epoch 100/100\n",
            "331/331 [==============================] - 94s 284ms/step - loss: 0.1988 - accuracy: 0.9268 - val_loss: 10.9589 - val_accuracy: 0.3122\n"
          ],
          "name": "stdout"
        }
      ]
    },
    {
      "cell_type": "markdown",
      "metadata": {
        "id": "hvYecVfydygt",
        "colab_type": "text"
      },
      "source": [
        "train + dev"
      ]
    },
    {
      "cell_type": "code",
      "metadata": {
        "id": "wmHoVZkAdipO",
        "colab_type": "code",
        "colab": {
          "base_uri": "https://localhost:8080/",
          "height": 1000
        },
        "outputId": "01c769a6-e759-4d77-fa9f-1d92d759133d"
      },
      "source": [
        "#train + dev\n",
        "\n",
        "#history_dev = model.fit(train_padded, train_categorical_labels, validation_data = (dev_padded, dev_categorical_labels), epochs=8)\n",
        "history_dev = model.fit(train_padded, train_categorical_labels, validation_data = (dev_padded, dev_categorical_labels), epochs=100)"
      ],
      "execution_count": 53,
      "outputs": [
        {
          "output_type": "stream",
          "text": [
            "Epoch 1/100\n",
            "331/331 [==============================] - 92s 277ms/step - loss: 0.1999 - accuracy: 0.9238 - val_loss: 11.9930 - val_accuracy: 0.2861\n",
            "Epoch 2/100\n",
            "331/331 [==============================] - 91s 275ms/step - loss: 0.2037 - accuracy: 0.9254 - val_loss: 11.9410 - val_accuracy: 0.2861\n",
            "Epoch 3/100\n",
            "331/331 [==============================] - 90s 273ms/step - loss: 0.1985 - accuracy: 0.9269 - val_loss: 11.9098 - val_accuracy: 0.2801\n",
            "Epoch 4/100\n",
            "331/331 [==============================] - 90s 273ms/step - loss: 0.2041 - accuracy: 0.9263 - val_loss: 12.1190 - val_accuracy: 0.2895\n",
            "Epoch 5/100\n",
            "331/331 [==============================] - 90s 273ms/step - loss: 0.1995 - accuracy: 0.9250 - val_loss: 12.3462 - val_accuracy: 0.2946\n",
            "Epoch 6/100\n",
            "331/331 [==============================] - 89s 269ms/step - loss: 0.2016 - accuracy: 0.9245 - val_loss: 11.6744 - val_accuracy: 0.2971\n",
            "Epoch 7/100\n",
            "331/331 [==============================] - 90s 271ms/step - loss: 0.1898 - accuracy: 0.9264 - val_loss: 12.4339 - val_accuracy: 0.2912\n",
            "Epoch 8/100\n",
            "331/331 [==============================] - 90s 271ms/step - loss: 0.1930 - accuracy: 0.9262 - val_loss: 12.3520 - val_accuracy: 0.2852\n",
            "Epoch 9/100\n",
            "331/331 [==============================] - 90s 270ms/step - loss: 0.1898 - accuracy: 0.9269 - val_loss: 12.7159 - val_accuracy: 0.2827\n",
            "Epoch 10/100\n",
            "331/331 [==============================] - 90s 273ms/step - loss: 0.2016 - accuracy: 0.9275 - val_loss: 12.5269 - val_accuracy: 0.2886\n",
            "Epoch 11/100\n",
            "331/331 [==============================] - 91s 274ms/step - loss: 0.1903 - accuracy: 0.9260 - val_loss: 12.9508 - val_accuracy: 0.2776\n",
            "Epoch 12/100\n",
            "331/331 [==============================] - 91s 275ms/step - loss: 0.1967 - accuracy: 0.9251 - val_loss: 13.1656 - val_accuracy: 0.2861\n",
            "Epoch 13/100\n",
            "331/331 [==============================] - 89s 269ms/step - loss: 0.1944 - accuracy: 0.9260 - val_loss: 13.3572 - val_accuracy: 0.2920\n",
            "Epoch 14/100\n",
            "331/331 [==============================] - 89s 269ms/step - loss: 0.1934 - accuracy: 0.9263 - val_loss: 13.3109 - val_accuracy: 0.2844\n",
            "Epoch 15/100\n",
            "331/331 [==============================] - 90s 272ms/step - loss: 0.2042 - accuracy: 0.9248 - val_loss: 13.0759 - val_accuracy: 0.2963\n",
            "Epoch 16/100\n",
            "331/331 [==============================] - 90s 271ms/step - loss: 0.1934 - accuracy: 0.9248 - val_loss: 12.9816 - val_accuracy: 0.2971\n",
            "Epoch 17/100\n",
            "331/331 [==============================] - 90s 272ms/step - loss: 0.1900 - accuracy: 0.9283 - val_loss: 13.4424 - val_accuracy: 0.2954\n",
            "Epoch 18/100\n",
            "331/331 [==============================] - 89s 269ms/step - loss: 0.1867 - accuracy: 0.9281 - val_loss: 13.6162 - val_accuracy: 0.2929\n",
            "Epoch 19/100\n",
            "331/331 [==============================] - 89s 268ms/step - loss: 0.1914 - accuracy: 0.9253 - val_loss: 13.5629 - val_accuracy: 0.2963\n",
            "Epoch 20/100\n",
            "331/331 [==============================] - 89s 268ms/step - loss: 0.1991 - accuracy: 0.9249 - val_loss: 13.1977 - val_accuracy: 0.2818\n",
            "Epoch 21/100\n",
            "331/331 [==============================] - 88s 267ms/step - loss: 0.2130 - accuracy: 0.9246 - val_loss: 12.4913 - val_accuracy: 0.2912\n",
            "Epoch 22/100\n",
            "331/331 [==============================] - 88s 266ms/step - loss: 0.1971 - accuracy: 0.9257 - val_loss: 12.4920 - val_accuracy: 0.2912\n",
            "Epoch 23/100\n",
            "331/331 [==============================] - 89s 268ms/step - loss: 0.1915 - accuracy: 0.9284 - val_loss: 12.4745 - val_accuracy: 0.2886\n",
            "Epoch 24/100\n",
            "331/331 [==============================] - 88s 265ms/step - loss: 0.1841 - accuracy: 0.9295 - val_loss: 12.5640 - val_accuracy: 0.2954\n",
            "Epoch 25/100\n",
            "331/331 [==============================] - 88s 266ms/step - loss: 0.1824 - accuracy: 0.9303 - val_loss: 12.8713 - val_accuracy: 0.2861\n",
            "Epoch 26/100\n",
            "331/331 [==============================] - 88s 265ms/step - loss: 0.1807 - accuracy: 0.9290 - val_loss: 13.3865 - val_accuracy: 0.2895\n",
            "Epoch 27/100\n",
            "331/331 [==============================] - 89s 268ms/step - loss: 0.1890 - accuracy: 0.9284 - val_loss: 13.0181 - val_accuracy: 0.2954\n",
            "Epoch 28/100\n",
            "331/331 [==============================] - 88s 266ms/step - loss: 0.1851 - accuracy: 0.9297 - val_loss: 13.1191 - val_accuracy: 0.2929\n",
            "Epoch 29/100\n",
            "331/331 [==============================] - 90s 272ms/step - loss: 0.1839 - accuracy: 0.9293 - val_loss: 13.0337 - val_accuracy: 0.3073\n",
            "Epoch 30/100\n",
            "331/331 [==============================] - 89s 269ms/step - loss: 0.2012 - accuracy: 0.9260 - val_loss: 13.0949 - val_accuracy: 0.2895\n",
            "Epoch 31/100\n",
            "331/331 [==============================] - 89s 269ms/step - loss: 0.1927 - accuracy: 0.9260 - val_loss: 12.8796 - val_accuracy: 0.2971\n",
            "Epoch 32/100\n",
            "331/331 [==============================] - 89s 268ms/step - loss: 0.1871 - accuracy: 0.9288 - val_loss: 12.7604 - val_accuracy: 0.2818\n",
            "Epoch 33/100\n",
            "331/331 [==============================] - 91s 274ms/step - loss: 0.1962 - accuracy: 0.9253 - val_loss: 12.4367 - val_accuracy: 0.2895\n",
            "Epoch 34/100\n",
            "331/331 [==============================] - 90s 273ms/step - loss: 0.1917 - accuracy: 0.9283 - val_loss: 12.5584 - val_accuracy: 0.2869\n",
            "Epoch 35/100\n",
            "331/331 [==============================] - 90s 273ms/step - loss: 0.1886 - accuracy: 0.9258 - val_loss: 12.8927 - val_accuracy: 0.2725\n",
            "Epoch 36/100\n",
            "331/331 [==============================] - 92s 277ms/step - loss: 0.1883 - accuracy: 0.9284 - val_loss: 12.9064 - val_accuracy: 0.2793\n",
            "Epoch 37/100\n",
            "331/331 [==============================] - 91s 276ms/step - loss: 0.1855 - accuracy: 0.9303 - val_loss: 12.9216 - val_accuracy: 0.2801\n",
            "Epoch 38/100\n",
            "331/331 [==============================] - 90s 272ms/step - loss: 0.1802 - accuracy: 0.9282 - val_loss: 13.2347 - val_accuracy: 0.2818\n",
            "Epoch 39/100\n",
            "331/331 [==============================] - 89s 270ms/step - loss: 0.1854 - accuracy: 0.9302 - val_loss: 13.1754 - val_accuracy: 0.2886\n",
            "Epoch 40/100\n",
            "331/331 [==============================] - 90s 272ms/step - loss: 0.1839 - accuracy: 0.9285 - val_loss: 13.3718 - val_accuracy: 0.2784\n",
            "Epoch 41/100\n",
            "331/331 [==============================] - 91s 274ms/step - loss: 0.1856 - accuracy: 0.9276 - val_loss: 13.2372 - val_accuracy: 0.2886\n",
            "Epoch 42/100\n",
            "331/331 [==============================] - 90s 271ms/step - loss: 0.1857 - accuracy: 0.9313 - val_loss: 12.7916 - val_accuracy: 0.3073\n",
            "Epoch 43/100\n",
            "331/331 [==============================] - 89s 269ms/step - loss: 0.1860 - accuracy: 0.9293 - val_loss: 13.4163 - val_accuracy: 0.2912\n",
            "Epoch 44/100\n",
            "331/331 [==============================] - 89s 269ms/step - loss: 0.1847 - accuracy: 0.9280 - val_loss: 13.5399 - val_accuracy: 0.3056\n",
            "Epoch 45/100\n",
            "331/331 [==============================] - 89s 269ms/step - loss: 0.1942 - accuracy: 0.9277 - val_loss: 13.8814 - val_accuracy: 0.2912\n",
            "Epoch 46/100\n",
            "331/331 [==============================] - 88s 267ms/step - loss: 0.2059 - accuracy: 0.9263 - val_loss: 13.6777 - val_accuracy: 0.2920\n",
            "Epoch 47/100\n",
            "331/331 [==============================] - 89s 269ms/step - loss: 0.1967 - accuracy: 0.9272 - val_loss: 13.5405 - val_accuracy: 0.2835\n",
            "Epoch 48/100\n",
            "331/331 [==============================] - 88s 265ms/step - loss: 0.1852 - accuracy: 0.9292 - val_loss: 13.2865 - val_accuracy: 0.2912\n",
            "Epoch 49/100\n",
            "331/331 [==============================] - 86s 259ms/step - loss: 0.1895 - accuracy: 0.9280 - val_loss: 13.1259 - val_accuracy: 0.2852\n",
            "Epoch 50/100\n",
            "331/331 [==============================] - 86s 259ms/step - loss: 0.1841 - accuracy: 0.9295 - val_loss: 13.1138 - val_accuracy: 0.2903\n",
            "Epoch 51/100\n",
            "331/331 [==============================] - 87s 264ms/step - loss: 0.1786 - accuracy: 0.9304 - val_loss: 13.3910 - val_accuracy: 0.2912\n",
            "Epoch 52/100\n",
            "331/331 [==============================] - 87s 262ms/step - loss: 0.1791 - accuracy: 0.9297 - val_loss: 13.6188 - val_accuracy: 0.3031\n",
            "Epoch 53/100\n",
            "331/331 [==============================] - 93s 282ms/step - loss: 0.1889 - accuracy: 0.9267 - val_loss: 13.1576 - val_accuracy: 0.3031\n",
            "Epoch 54/100\n",
            "331/331 [==============================] - 92s 277ms/step - loss: 0.1870 - accuracy: 0.9300 - val_loss: 13.6647 - val_accuracy: 0.3031\n",
            "Epoch 55/100\n",
            "331/331 [==============================] - 91s 274ms/step - loss: 0.1807 - accuracy: 0.9289 - val_loss: 13.5522 - val_accuracy: 0.2818\n",
            "Epoch 56/100\n",
            "331/331 [==============================] - 91s 275ms/step - loss: 0.1881 - accuracy: 0.9259 - val_loss: 13.2796 - val_accuracy: 0.3098\n",
            "Epoch 57/100\n",
            "331/331 [==============================] - 91s 275ms/step - loss: 0.1792 - accuracy: 0.9302 - val_loss: 13.6376 - val_accuracy: 0.2988\n",
            "Epoch 58/100\n",
            "331/331 [==============================] - 91s 275ms/step - loss: 0.1857 - accuracy: 0.9286 - val_loss: 13.6259 - val_accuracy: 0.3065\n",
            "Epoch 59/100\n",
            "331/331 [==============================] - 91s 274ms/step - loss: 0.1849 - accuracy: 0.9287 - val_loss: 13.4100 - val_accuracy: 0.2988\n",
            "Epoch 60/100\n",
            "331/331 [==============================] - 90s 272ms/step - loss: 0.1791 - accuracy: 0.9291 - val_loss: 13.8125 - val_accuracy: 0.2988\n",
            "Epoch 61/100\n",
            "331/331 [==============================] - 91s 275ms/step - loss: 0.1803 - accuracy: 0.9298 - val_loss: 14.0135 - val_accuracy: 0.2946\n",
            "Epoch 62/100\n",
            "331/331 [==============================] - 89s 270ms/step - loss: 0.1851 - accuracy: 0.9272 - val_loss: 13.5322 - val_accuracy: 0.2971\n",
            "Epoch 63/100\n",
            "331/331 [==============================] - 89s 269ms/step - loss: 0.1798 - accuracy: 0.9290 - val_loss: 14.0139 - val_accuracy: 0.3048\n",
            "Epoch 64/100\n",
            "331/331 [==============================] - 90s 272ms/step - loss: 0.1767 - accuracy: 0.9296 - val_loss: 14.3545 - val_accuracy: 0.2980\n",
            "Epoch 65/100\n",
            "331/331 [==============================] - 94s 283ms/step - loss: 0.1772 - accuracy: 0.9289 - val_loss: 14.0874 - val_accuracy: 0.3022\n",
            "Epoch 66/100\n",
            "331/331 [==============================] - 93s 280ms/step - loss: 0.1827 - accuracy: 0.9297 - val_loss: 14.1596 - val_accuracy: 0.3031\n",
            "Epoch 67/100\n",
            "331/331 [==============================] - 92s 279ms/step - loss: 0.1871 - accuracy: 0.9293 - val_loss: 14.3421 - val_accuracy: 0.3031\n",
            "Epoch 68/100\n",
            "331/331 [==============================] - 93s 281ms/step - loss: 0.1864 - accuracy: 0.9293 - val_loss: 13.9371 - val_accuracy: 0.3132\n",
            "Epoch 69/100\n",
            "331/331 [==============================] - 93s 282ms/step - loss: 0.1942 - accuracy: 0.9271 - val_loss: 13.6451 - val_accuracy: 0.2971\n",
            "Epoch 70/100\n",
            "331/331 [==============================] - 93s 282ms/step - loss: 0.1842 - accuracy: 0.9292 - val_loss: 13.6603 - val_accuracy: 0.3073\n",
            "Epoch 71/100\n",
            "331/331 [==============================] - 93s 282ms/step - loss: 0.1812 - accuracy: 0.9299 - val_loss: 13.4795 - val_accuracy: 0.2937\n",
            "Epoch 72/100\n",
            "331/331 [==============================] - 94s 284ms/step - loss: 0.1846 - accuracy: 0.9287 - val_loss: 13.4937 - val_accuracy: 0.3014\n",
            "Epoch 73/100\n",
            "331/331 [==============================] - 93s 282ms/step - loss: 0.1760 - accuracy: 0.9301 - val_loss: 13.9179 - val_accuracy: 0.2903\n",
            "Epoch 74/100\n",
            "331/331 [==============================] - 93s 282ms/step - loss: 0.1798 - accuracy: 0.9304 - val_loss: 13.7018 - val_accuracy: 0.2988\n",
            "Epoch 75/100\n",
            "331/331 [==============================] - 92s 279ms/step - loss: 0.1743 - accuracy: 0.9326 - val_loss: 14.0992 - val_accuracy: 0.2937\n",
            "Epoch 76/100\n",
            "331/331 [==============================] - 93s 280ms/step - loss: 0.1821 - accuracy: 0.9294 - val_loss: 13.8958 - val_accuracy: 0.3022\n",
            "Epoch 77/100\n",
            "331/331 [==============================] - 94s 283ms/step - loss: 0.1865 - accuracy: 0.9304 - val_loss: 13.5800 - val_accuracy: 0.2895\n",
            "Epoch 78/100\n",
            "331/331 [==============================] - 92s 279ms/step - loss: 0.1843 - accuracy: 0.9300 - val_loss: 13.7956 - val_accuracy: 0.2971\n",
            "Epoch 79/100\n",
            "331/331 [==============================] - 92s 279ms/step - loss: 0.1819 - accuracy: 0.9295 - val_loss: 13.8610 - val_accuracy: 0.2852\n",
            "Epoch 80/100\n",
            "331/331 [==============================] - 92s 279ms/step - loss: 0.1815 - accuracy: 0.9264 - val_loss: 14.1074 - val_accuracy: 0.2997\n",
            "Epoch 81/100\n",
            "331/331 [==============================] - 96s 291ms/step - loss: 0.1775 - accuracy: 0.9280 - val_loss: 14.0839 - val_accuracy: 0.2793\n",
            "Epoch 82/100\n",
            "331/331 [==============================] - 95s 286ms/step - loss: 0.1769 - accuracy: 0.9299 - val_loss: 14.4979 - val_accuracy: 0.2852\n",
            "Epoch 83/100\n",
            "331/331 [==============================] - 94s 285ms/step - loss: 0.1757 - accuracy: 0.9310 - val_loss: 14.9059 - val_accuracy: 0.2878\n",
            "Epoch 84/100\n",
            "331/331 [==============================] - 95s 288ms/step - loss: 0.1768 - accuracy: 0.9305 - val_loss: 14.7729 - val_accuracy: 0.2903\n",
            "Epoch 85/100\n",
            "331/331 [==============================] - 94s 283ms/step - loss: 0.1755 - accuracy: 0.9309 - val_loss: 14.8536 - val_accuracy: 0.3014\n",
            "Epoch 86/100\n",
            "331/331 [==============================] - 97s 294ms/step - loss: 0.1936 - accuracy: 0.9293 - val_loss: 13.7728 - val_accuracy: 0.2954\n",
            "Epoch 87/100\n",
            "331/331 [==============================] - 96s 290ms/step - loss: 0.1870 - accuracy: 0.9283 - val_loss: 13.8905 - val_accuracy: 0.3039\n",
            "Epoch 88/100\n",
            "331/331 [==============================] - 96s 290ms/step - loss: 0.1775 - accuracy: 0.9305 - val_loss: 14.4767 - val_accuracy: 0.2912\n",
            "Epoch 89/100\n",
            "331/331 [==============================] - 96s 289ms/step - loss: 0.1744 - accuracy: 0.9312 - val_loss: 14.7047 - val_accuracy: 0.2980\n",
            "Epoch 90/100\n",
            "331/331 [==============================] - 95s 287ms/step - loss: 0.1824 - accuracy: 0.9279 - val_loss: 14.3268 - val_accuracy: 0.2971\n",
            "Epoch 91/100\n",
            "331/331 [==============================] - 92s 279ms/step - loss: 0.1747 - accuracy: 0.9298 - val_loss: 14.7086 - val_accuracy: 0.2929\n",
            "Epoch 92/100\n",
            "331/331 [==============================] - 91s 275ms/step - loss: 0.1779 - accuracy: 0.9303 - val_loss: 14.7967 - val_accuracy: 0.2971\n",
            "Epoch 93/100\n",
            "331/331 [==============================] - 91s 274ms/step - loss: 0.1815 - accuracy: 0.9297 - val_loss: 14.9633 - val_accuracy: 0.2903\n",
            "Epoch 94/100\n",
            "331/331 [==============================] - 90s 272ms/step - loss: 0.1813 - accuracy: 0.9298 - val_loss: 14.8761 - val_accuracy: 0.2852\n",
            "Epoch 95/100\n",
            "331/331 [==============================] - 89s 270ms/step - loss: 0.1787 - accuracy: 0.9311 - val_loss: 15.3394 - val_accuracy: 0.2920\n",
            "Epoch 96/100\n",
            "331/331 [==============================] - 88s 266ms/step - loss: 0.1784 - accuracy: 0.9307 - val_loss: 15.0367 - val_accuracy: 0.2937\n",
            "Epoch 97/100\n",
            "331/331 [==============================] - 89s 269ms/step - loss: 0.1852 - accuracy: 0.9291 - val_loss: 14.6746 - val_accuracy: 0.2980\n",
            "Epoch 98/100\n",
            "331/331 [==============================] - 90s 271ms/step - loss: 0.1906 - accuracy: 0.9278 - val_loss: 14.5957 - val_accuracy: 0.2835\n",
            "Epoch 99/100\n",
            "331/331 [==============================] - 92s 279ms/step - loss: 0.1895 - accuracy: 0.9287 - val_loss: 14.6849 - val_accuracy: 0.2895\n",
            "Epoch 100/100\n",
            "331/331 [==============================] - 92s 277ms/step - loss: 0.1826 - accuracy: 0.9298 - val_loss: 14.8560 - val_accuracy: 0.2878\n"
          ],
          "name": "stdout"
        }
      ]
    },
    {
      "cell_type": "markdown",
      "metadata": {
        "id": "_2FA_tK1d144",
        "colab_type": "text"
      },
      "source": [
        "Chart 그리기"
      ]
    },
    {
      "cell_type": "code",
      "metadata": {
        "id": "HL5gyneJO7J2",
        "colab_type": "code",
        "colab": {
          "base_uri": "https://localhost:8080/",
          "height": 541
        },
        "outputId": "f40cbd4c-ea08-4fc0-a692-3626bbac0897"
      },
      "source": [
        "#we got a pretty good accurcay\n",
        "import matplotlib.pyplot as plt\n",
        "def plot_graphs(history, string):\n",
        "  plt.plot(history.history[string])\n",
        "  \n",
        "  plt.xlabel(\"Epochs\")\n",
        "  plt.ylabel(string)\n",
        "  plt.legend([string])\n",
        "  plt.show()\n",
        "  \n",
        "plot_graphs(history, \"accuracy\")\n",
        "plot_graphs(history, \"loss\")\n",
        "#a smooth graph which is a good indication.\n"
      ],
      "execution_count": 54,
      "outputs": [
        {
          "output_type": "display_data",
          "data": {
            "image/png": "[encoded data removed]",
            "text/plain": [
              "<Figure size 432x288 with 1 Axes>"
            ]
          },
          "metadata": {
            "tags": [],
            "needs_background": "light"
          }
        },
        {
          "output_type": "display_data",
          "data": {
            "image/png": "[encoded data removed]",
            "text/plain": [
              "<Figure size 432x288 with 1 Axes>"
            ]
          },
          "metadata": {
            "tags": [],
            "needs_background": "light"
          }
        }
      ]
    },
    {
      "cell_type": "code",
      "metadata": {
        "id": "w-G8XTW7O7U5",
        "colab_type": "code",
        "colab": {}
      },
      "source": [
        "#save the model for further use\n",
        "model.save(\"model.h5\")"
      ],
      "execution_count": 59,
      "outputs": []
    },
    {
      "cell_type": "code",
      "metadata": {
        "id": "weiDUEcNO7Rf",
        "colab_type": "code",
        "colab": {}
      },
      "source": [
        "from numpy import loadtxt\n",
        "from keras.models import load_model\n",
        " \n",
        "# load model\n",
        "model = tf.keras.models.load_model('model.h5')"
      ],
      "execution_count": 60,
      "outputs": []
    },
    {
      "cell_type": "code",
      "metadata": {
        "id": "_FZ7rz0oO7Nz",
        "colab_type": "code",
        "colab": {}
      },
      "source": [
        ""
      ],
      "execution_count": 60,
      "outputs": []
    },
    {
      "cell_type": "code",
      "metadata": {
        "id": "smaNoLAkjhsz",
        "colab_type": "code",
        "colab": {}
      },
      "source": [
        "import codecs\n",
        "with codecs.open(\"en_data.txt\", encoding='cp949') as f3:\n",
        "    data_real = [line.split('\\t') for line in f3.read().splitlines()]\n",
        "    data_real = data_real[1:]   # header 제외"
      ],
      "execution_count": 61,
      "outputs": []
    },
    {
      "cell_type": "code",
      "metadata": {
        "id": "T8_DH5Uijr2q",
        "colab_type": "code",
        "colab": {
          "base_uri": "https://localhost:8080/",
          "height": 34
        },
        "outputId": "e7c13cae-fc98-4030-f6fb-d302fa380ec9"
      },
      "source": [
        "data_real[0][0]\n",
        "data_real[0][1]\n",
        "data_real[0][2]\n",
        "data_real[0][3]\n",
        "data_real[0][4]"
      ],
      "execution_count": 62,
      "outputs": [
        {
          "output_type": "execute_result",
          "data": {
            "text/plain": [
              "'\"Alright, whadyou do with him?\"'"
            ]
          },
          "metadata": {
            "tags": []
          },
          "execution_count": 62
        }
      ]
    },
    {
      "cell_type": "code",
      "metadata": {
        "id": "bB4JTi5ajrxy",
        "colab_type": "code",
        "colab": {}
      },
      "source": [
        "X_test = list(zip(*data_real))[4]\n",
        "\n",
        "#result_ngram = model4.predict(X_test_2)"
      ],
      "execution_count": 63,
      "outputs": []
    },
    {
      "cell_type": "code",
      "metadata": {
        "id": "xE2rJc02jhrQ",
        "colab_type": "code",
        "colab": {
          "base_uri": "https://localhost:8080/",
          "height": 70
        },
        "outputId": "e926fab5-2205-419e-dcce-857132d7c98e"
      },
      "source": [
        "X_test[:3]"
      ],
      "execution_count": 64,
      "outputs": [
        {
          "output_type": "execute_result",
          "data": {
            "text/plain": [
              "('\"Alright, whadyou do with him?\"',\n",
              " \"Oh! You're awake!\",\n",
              " 'Then you gotta come clean with Ma! This is not right!')"
            ]
          },
          "metadata": {
            "tags": []
          },
          "execution_count": 64
        }
      ]
    },
    {
      "cell_type": "code",
      "metadata": {
        "id": "VNSfbMGSkXLq",
        "colab_type": "code",
        "colab": {}
      },
      "source": [
        ""
      ],
      "execution_count": 64,
      "outputs": []
    },
    {
      "cell_type": "code",
      "metadata": {
        "id": "J34XrDDrlk54",
        "colab_type": "code",
        "colab": {
          "base_uri": "https://localhost:8080/",
          "height": 70
        },
        "outputId": "ec4e28c0-7fb6-4db9-fa44-0d4b08faa179"
      },
      "source": [
        "real_sentence = []\n",
        "\n",
        "for a in range(len(data_real)):\n",
        "  real_sentence.append(data_real[a][4])\n",
        "\n",
        "real_sentence[:3]"
      ],
      "execution_count": 65,
      "outputs": [
        {
          "output_type": "execute_result",
          "data": {
            "text/plain": [
              "['\"Alright, whadyou do with him?\"',\n",
              " \"Oh! You're awake!\",\n",
              " 'Then you gotta come clean with Ma! This is not right!']"
            ]
          },
          "metadata": {
            "tags": []
          },
          "execution_count": 65
        }
      ]
    },
    {
      "cell_type": "code",
      "metadata": {
        "id": "pnjmcCMJlk4E",
        "colab_type": "code",
        "colab": {}
      },
      "source": [
        "#convert the list into data frame for better analysis\n",
        "real_df = pd.DataFrame(list(zip(real_sentence)), \n",
        "               columns =['real_Sentences']) "
      ],
      "execution_count": 66,
      "outputs": []
    },
    {
      "cell_type": "code",
      "metadata": {
        "id": "OITGC8pGlk16",
        "colab_type": "code",
        "colab": {
          "base_uri": "https://localhost:8080/",
          "height": 406
        },
        "outputId": "824c6e83-be75-40a3-d5e8-070cac83d8e3"
      },
      "source": [
        "real_df"
      ],
      "execution_count": 67,
      "outputs": [
        {
          "output_type": "execute_result",
          "data": {
            "text/html": [
              "<div>\n",
              "<style scoped>\n",
              "    .dataframe tbody tr th:only-of-type {\n",
              "        vertical-align: middle;\n",
              "    }\n",
              "\n",
              "    .dataframe tbody tr th {\n",
              "        vertical-align: top;\n",
              "    }\n",
              "\n",
              "    .dataframe thead th {\n",
              "        text-align: right;\n",
              "    }\n",
              "</style>\n",
              "<table border=\"1\" class=\"dataframe\">\n",
              "  <thead>\n",
              "    <tr style=\"text-align: right;\">\n",
              "      <th></th>\n",
              "      <th>real_Sentences</th>\n",
              "    </tr>\n",
              "  </thead>\n",
              "  <tbody>\n",
              "    <tr>\n",
              "      <th>0</th>\n",
              "      <td>\"Alright, whadyou do with him?\"</td>\n",
              "    </tr>\n",
              "    <tr>\n",
              "      <th>1</th>\n",
              "      <td>Oh! You're awake!</td>\n",
              "    </tr>\n",
              "    <tr>\n",
              "      <th>2</th>\n",
              "      <td>Then you gotta come clean with Ma! This is not...</td>\n",
              "    </tr>\n",
              "    <tr>\n",
              "      <th>3</th>\n",
              "      <td>\"Yeah, but this is\"</td>\n",
              "    </tr>\n",
              "    <tr>\n",
              "      <th>4</th>\n",
              "      <td>I don't wanna hear it! Now go to my room!</td>\n",
              "    </tr>\n",
              "    <tr>\n",
              "      <th>...</th>\n",
              "      <td>...</td>\n",
              "    </tr>\n",
              "    <tr>\n",
              "      <th>3291</th>\n",
              "      <td>I guess.</td>\n",
              "    </tr>\n",
              "    <tr>\n",
              "      <th>3292</th>\n",
              "      <td>\"So, shouldn?t we go give her the benefit of t...</td>\n",
              "    </tr>\n",
              "    <tr>\n",
              "      <th>3293</th>\n",
              "      <td>Fine. I?m just glad I didn?t give her my secre...</td>\n",
              "    </tr>\n",
              "    <tr>\n",
              "      <th>3294</th>\n",
              "      <td>\"Out of curiosity, what is your secret ingredi...</td>\n",
              "    </tr>\n",
              "    <tr>\n",
              "      <th>3295</th>\n",
              "      <td>Yeah!</td>\n",
              "    </tr>\n",
              "  </tbody>\n",
              "</table>\n",
              "<p>3296 rows × 1 columns</p>\n",
              "</div>"
            ],
            "text/plain": [
              "                                         real_Sentences\n",
              "0                       \"Alright, whadyou do with him?\"\n",
              "1                                     Oh! You're awake!\n",
              "2     Then you gotta come clean with Ma! This is not...\n",
              "3                                   \"Yeah, but this is\"\n",
              "4             I don't wanna hear it! Now go to my room!\n",
              "...                                                 ...\n",
              "3291                                           I guess.\n",
              "3292  \"So, shouldn?t we go give her the benefit of t...\n",
              "3293  Fine. I?m just glad I didn?t give her my secre...\n",
              "3294  \"Out of curiosity, what is your secret ingredi...\n",
              "3295                                              Yeah!\n",
              "\n",
              "[3296 rows x 1 columns]"
            ]
          },
          "metadata": {
            "tags": []
          },
          "execution_count": 67
        }
      ]
    },
    {
      "cell_type": "code",
      "metadata": {
        "id": "bTfua3k0mR5J",
        "colab_type": "code",
        "colab": {
          "base_uri": "https://localhost:8080/",
          "height": 54
        },
        "outputId": "8f0f2477-1b6a-4944-aa80-410e80341111"
      },
      "source": [
        "#removing the unnecessary stopwords\n",
        "!pip install nlppreprocess\n",
        "from nlppreprocess import NLP\n",
        "\n",
        "nlp = NLP()\n",
        "\n",
        "real_df['real_Sentences_clean'] = real_df['real_Sentences'].apply(nlp.process)"
      ],
      "execution_count": 68,
      "outputs": [
        {
          "output_type": "stream",
          "text": [
            "Requirement already satisfied: nlppreprocess in /usr/local/lib/python3.6/dist-packages (1.0.2)\n"
          ],
          "name": "stdout"
        }
      ]
    },
    {
      "cell_type": "code",
      "metadata": {
        "id": "OFb1pGyqmR4B",
        "colab_type": "code",
        "colab": {
          "base_uri": "https://localhost:8080/",
          "height": 473
        },
        "outputId": "8e9fed37-21ce-4dad-c895-d3f53e0a5c9a"
      },
      "source": [
        "real_df"
      ],
      "execution_count": 69,
      "outputs": [
        {
          "output_type": "execute_result",
          "data": {
            "text/html": [
              "<div>\n",
              "<style scoped>\n",
              "    .dataframe tbody tr th:only-of-type {\n",
              "        vertical-align: middle;\n",
              "    }\n",
              "\n",
              "    .dataframe tbody tr th {\n",
              "        vertical-align: top;\n",
              "    }\n",
              "\n",
              "    .dataframe thead th {\n",
              "        text-align: right;\n",
              "    }\n",
              "</style>\n",
              "<table border=\"1\" class=\"dataframe\">\n",
              "  <thead>\n",
              "    <tr style=\"text-align: right;\">\n",
              "      <th></th>\n",
              "      <th>real_Sentences</th>\n",
              "      <th>real_Sentences_clean</th>\n",
              "    </tr>\n",
              "  </thead>\n",
              "  <tbody>\n",
              "    <tr>\n",
              "      <th>0</th>\n",
              "      <td>\"Alright, whadyou do with him?\"</td>\n",
              "      <td>Alright  whadyou with him</td>\n",
              "    </tr>\n",
              "    <tr>\n",
              "      <th>1</th>\n",
              "      <td>Oh! You're awake!</td>\n",
              "      <td>Oh  You re awake</td>\n",
              "    </tr>\n",
              "    <tr>\n",
              "      <th>2</th>\n",
              "      <td>Then you gotta come clean with Ma! This is not...</td>\n",
              "      <td>Then you gotta come clean with Ma  not right</td>\n",
              "    </tr>\n",
              "    <tr>\n",
              "      <th>3</th>\n",
              "      <td>\"Yeah, but this is\"</td>\n",
              "      <td>Yeah  but is</td>\n",
              "    </tr>\n",
              "    <tr>\n",
              "      <th>4</th>\n",
              "      <td>I don't wanna hear it! Now go to my room!</td>\n",
              "      <td>not wanna hear it  Now go my room</td>\n",
              "    </tr>\n",
              "    <tr>\n",
              "      <th>...</th>\n",
              "      <td>...</td>\n",
              "      <td>...</td>\n",
              "    </tr>\n",
              "    <tr>\n",
              "      <th>3291</th>\n",
              "      <td>I guess.</td>\n",
              "      <td>guess</td>\n",
              "    </tr>\n",
              "    <tr>\n",
              "      <th>3292</th>\n",
              "      <td>\"So, shouldn?t we go give her the benefit of t...</td>\n",
              "      <td>So  shouldn t we go give her benefit doubt be...</td>\n",
              "    </tr>\n",
              "    <tr>\n",
              "      <th>3293</th>\n",
              "      <td>Fine. I?m just glad I didn?t give her my secre...</td>\n",
              "      <td>Fine  I m just glad didn t give her my secret ...</td>\n",
              "    </tr>\n",
              "    <tr>\n",
              "      <th>3294</th>\n",
              "      <td>\"Out of curiosity, what is your secret ingredi...</td>\n",
              "      <td>Out curiosity  what your secret ingredient</td>\n",
              "    </tr>\n",
              "    <tr>\n",
              "      <th>3295</th>\n",
              "      <td>Yeah!</td>\n",
              "      <td>Yeah</td>\n",
              "    </tr>\n",
              "  </tbody>\n",
              "</table>\n",
              "<p>3296 rows × 2 columns</p>\n",
              "</div>"
            ],
            "text/plain": [
              "                                         real_Sentences                               real_Sentences_clean\n",
              "0                       \"Alright, whadyou do with him?\"                        Alright  whadyou with him  \n",
              "1                                     Oh! You're awake!                                  Oh  You re awake \n",
              "2     Then you gotta come clean with Ma! This is not...      Then you gotta come clean with Ma  not right \n",
              "3                                   \"Yeah, but this is\"                                      Yeah  but is \n",
              "4             I don't wanna hear it! Now go to my room!                 not wanna hear it  Now go my room \n",
              "...                                                 ...                                                ...\n",
              "3291                                           I guess.                                             guess \n",
              "3292  \"So, shouldn?t we go give her the benefit of t...   So  shouldn t we go give her benefit doubt be...\n",
              "3293  Fine. I?m just glad I didn?t give her my secre...  Fine  I m just glad didn t give her my secret ...\n",
              "3294  \"Out of curiosity, what is your secret ingredi...       Out curiosity  what your secret ingredient  \n",
              "3295                                              Yeah!                                              Yeah \n",
              "\n",
              "[3296 rows x 2 columns]"
            ]
          },
          "metadata": {
            "tags": []
          },
          "execution_count": 69
        }
      ]
    },
    {
      "cell_type": "code",
      "metadata": {
        "id": "zeRg-dC4mRy6",
        "colab_type": "code",
        "colab": {}
      },
      "source": [
        ""
      ],
      "execution_count": 69,
      "outputs": []
    },
    {
      "cell_type": "code",
      "metadata": {
        "id": "jxrvoDRmmRxH",
        "colab_type": "code",
        "colab": {}
      },
      "source": [
        ""
      ],
      "execution_count": 69,
      "outputs": []
    },
    {
      "cell_type": "markdown",
      "metadata": {
        "id": "J-fUI9eYlJaX",
        "colab_type": "text"
      },
      "source": [
        "real 데이터 예측"
      ]
    },
    {
      "cell_type": "code",
      "metadata": {
        "id": "INp4rg-ck2dn",
        "colab_type": "code",
        "colab": {
          "base_uri": "https://localhost:8080/",
          "height": 34
        },
        "outputId": "f2927c03-6ec1-4fe7-9825-2922a7a102fa"
      },
      "source": [
        "#toxenising the sentences to numbers and then padding the text to size of max len text.\n",
        "real_sentences_list=[]\n",
        "\n",
        "for i in range(len(real_df.real_Sentences)):\n",
        "\n",
        "# lemmatize to cluster similar words like good, better into one word 'good', generalize tense as it doesn't have much impact on sentiment.\n",
        "    real_sentences_list.append(lemmatizer.lemmatize(real_df['real_Sentences_clean'][i]))\n",
        "\n",
        "print(real_sentences_list[0])\n"
      ],
      "execution_count": 70,
      "outputs": [
        {
          "output_type": "stream",
          "text": [
            " Alright  whadyou with him  \n"
          ],
          "name": "stdout"
        }
      ]
    },
    {
      "cell_type": "code",
      "metadata": {
        "id": "2NpLEbkjnfMV",
        "colab_type": "code",
        "colab": {
          "base_uri": "https://localhost:8080/",
          "height": 105
        },
        "outputId": "50aa71d3-0704-4666-9d35-112e4f90e748"
      },
      "source": [
        "#toxenising the sentences to numbers and then padding the text to size of max len text.\n",
        "tokenizer = Tokenizer(num_words = 20000, oov_token= 'OOV')\n",
        "tokenizer.fit_on_texts(real_sentences_list)\n",
        "\n",
        "real_sequences = tokenizer.texts_to_sequences(real_sentences_list)\n",
        "real_padded = pad_sequences(real_sequences, maxlen=50, padding= 'post', truncating='post')\n",
        "\n",
        "real_padded[0]"
      ],
      "execution_count": 71,
      "outputs": [
        {
          "output_type": "execute_result",
          "data": {
            "text/plain": [
              "array([ 174, 1304,   27,   82,    0,    0,    0,    0,    0,    0,    0,\n",
              "          0,    0,    0,    0,    0,    0,    0,    0,    0,    0,    0,\n",
              "          0,    0,    0,    0,    0,    0,    0,    0,    0,    0,    0,\n",
              "          0,    0,    0,    0,    0,    0,    0,    0,    0,    0,    0,\n",
              "          0,    0,    0,    0,    0,    0], dtype=int32)"
            ]
          },
          "metadata": {
            "tags": []
          },
          "execution_count": 71
        }
      ]
    },
    {
      "cell_type": "code",
      "metadata": {
        "id": "R1P8wXxmnfKg",
        "colab_type": "code",
        "colab": {}
      },
      "source": [
        ""
      ],
      "execution_count": 71,
      "outputs": []
    },
    {
      "cell_type": "code",
      "metadata": {
        "id": "JbfHjA3znfIT",
        "colab_type": "code",
        "colab": {}
      },
      "source": [
        ""
      ],
      "execution_count": 71,
      "outputs": []
    },
    {
      "cell_type": "code",
      "metadata": {
        "id": "8-9M1FrUkXKQ",
        "colab_type": "code",
        "colab": {
          "base_uri": "https://localhost:8080/",
          "height": 54
        },
        "outputId": "328b209f-789d-44e8-d1dc-484984a073b9"
      },
      "source": [
        "#real_result = model.predict(real_padded)\n",
        "real_result = model.predict((real_padded[:1]))"
      ],
      "execution_count": 72,
      "outputs": [
        {
          "output_type": "stream",
          "text": [
            "WARNING:tensorflow:Model was constructed with shape (None, 30) for input Tensor(\"embedding_input_1:0\", shape=(None, 30), dtype=float32), but it was called on an input with incompatible shape (None, 50).\n"
          ],
          "name": "stdout"
        }
      ]
    },
    {
      "cell_type": "code",
      "metadata": {
        "id": "bZrrAEdmkXI4",
        "colab_type": "code",
        "colab": {
          "base_uri": "https://localhost:8080/",
          "height": 70
        },
        "outputId": "18ece631-1e1a-4802-93ae-5fab3c94468b"
      },
      "source": [
        "real_result"
      ],
      "execution_count": 73,
      "outputs": [
        {
          "output_type": "execute_result",
          "data": {
            "text/plain": [
              "array([[2.3174715e-10, 6.9799250e-11, 1.0390150e-05, 5.5016288e-05,\n",
              "        4.6189990e-02, 9.5373452e-01, 1.1052655e-07, 1.0059240e-05]],\n",
              "      dtype=float32)"
            ]
          },
          "metadata": {
            "tags": []
          },
          "execution_count": 73
        }
      ]
    },
    {
      "cell_type": "code",
      "metadata": {
        "id": "PKCy1XNakXDN",
        "colab_type": "code",
        "colab": {
          "base_uri": "https://localhost:8080/",
          "height": 34
        },
        "outputId": "a485d0bc-37ec-4e3a-c5a1-255c7197a931"
      },
      "source": [
        "len(real_sentences_list)"
      ],
      "execution_count": 74,
      "outputs": [
        {
          "output_type": "execute_result",
          "data": {
            "text/plain": [
              "3296"
            ]
          },
          "metadata": {
            "tags": []
          },
          "execution_count": 74
        }
      ]
    },
    {
      "cell_type": "code",
      "metadata": {
        "id": "icm-PMCQrLyn",
        "colab_type": "code",
        "colab": {}
      },
      "source": [
        ""
      ],
      "execution_count": 74,
      "outputs": []
    },
    {
      "cell_type": "code",
      "metadata": {
        "id": "QSp6ky9yrLr9",
        "colab_type": "code",
        "colab": {}
      },
      "source": [
        ""
      ],
      "execution_count": 74,
      "outputs": []
    },
    {
      "cell_type": "code",
      "metadata": {
        "id": "KCA2uzWdkXAu",
        "colab_type": "code",
        "colab": {}
      },
      "source": [
        "final_list = []\n",
        "for i in range(1,len(real_sentences_list)):\n",
        "\n",
        "#predicting the sentiment of tweets and decoding the predictions simultaneously.\n",
        "  final_list.append((model.predict(real_padded[i-1:i])))"
      ],
      "execution_count": 75,
      "outputs": []
    },
    {
      "cell_type": "code",
      "metadata": {
        "id": "WkwbFTvHoEBi",
        "colab_type": "code",
        "colab": {
          "base_uri": "https://localhost:8080/",
          "height": 34
        },
        "outputId": "f6ab57e7-00a4-41b8-ba20-ac827b07d3b4"
      },
      "source": [
        "len(final_list)"
      ],
      "execution_count": 76,
      "outputs": [
        {
          "output_type": "execute_result",
          "data": {
            "text/plain": [
              "3295"
            ]
          },
          "metadata": {
            "tags": []
          },
          "execution_count": 76
        }
      ]
    },
    {
      "cell_type": "code",
      "metadata": {
        "id": "spJU0xMIz2jG",
        "colab_type": "code",
        "colab": {}
      },
      "source": [
        "final_predict = np.array(final_list)"
      ],
      "execution_count": 77,
      "outputs": []
    },
    {
      "cell_type": "code",
      "metadata": {
        "id": "OoqTJRpWzgjV",
        "colab_type": "code",
        "colab": {}
      },
      "source": [
        "predict_result = np.argmax(final_predict, axis=2)"
      ],
      "execution_count": 78,
      "outputs": []
    },
    {
      "cell_type": "code",
      "metadata": {
        "id": "fwo5FP2O0xFA",
        "colab_type": "code",
        "colab": {
          "base_uri": "https://localhost:8080/",
          "height": 141
        },
        "outputId": "8fa874f2-d172-4afe-f76d-7a568b1c3327"
      },
      "source": [
        "predict_result"
      ],
      "execution_count": 79,
      "outputs": [
        {
          "output_type": "execute_result",
          "data": {
            "text/plain": [
              "array([[5],\n",
              "       [0],\n",
              "       [4],\n",
              "       ...,\n",
              "       [5],\n",
              "       [5],\n",
              "       [3]])"
            ]
          },
          "metadata": {
            "tags": []
          },
          "execution_count": 79
        }
      ]
    },
    {
      "cell_type": "code",
      "metadata": {
        "id": "XUuwqbrH0w-q",
        "colab_type": "code",
        "colab": {
          "base_uri": "https://localhost:8080/",
          "height": 34
        },
        "outputId": "ea181d4b-bb77-4284-b71c-06cd19884047"
      },
      "source": [
        "predict_result[0][0]"
      ],
      "execution_count": 80,
      "outputs": [
        {
          "output_type": "execute_result",
          "data": {
            "text/plain": [
              "5"
            ]
          },
          "metadata": {
            "tags": []
          },
          "execution_count": 80
        }
      ]
    },
    {
      "cell_type": "code",
      "metadata": {
        "id": "z06kbP2B2WJL",
        "colab_type": "code",
        "colab": {}
      },
      "source": [
        "\n",
        "en_data_result = open(\"en_data_result.txt\", 'w')\n",
        "\n",
        "idx = 0\n",
        "predict_emo = 'emotion'\n",
        "\n",
        "for i in predict_result :\n",
        "  if predict_result[idx][0] == 0 :\n",
        "    predict_emo = 'anger'\n",
        "  elif predict_result[idx][0] == 1 :\n",
        "    predict_emo = 'disgust'\n",
        "  elif predict_result[idx][0] == 2 :\n",
        "    predict_emo = 'fear'\n",
        "  elif predict_result[idx][0] == 3 :\n",
        "    predict_emo = 'joy'\n",
        "  elif predict_result[idx][0] == 4 :\n",
        "    predict_emo = 'neutral'\n",
        "  elif predict_result[idx][0] == 5 :\n",
        "    predict_emo = 'non-neutral'\n",
        "  elif predict_result[idx][0] == 6 :\n",
        "    predict_emo = 'sadness'\n",
        "  else :\n",
        "    predict_emo = 'surprise'\n",
        "  \n",
        "  #en_data_result.write(str(idx)+'\\t'+str(predict_result[idx][0])+'\\n')\n",
        "  en_data_result.write(str(idx)+'\\t'+str(predict_emo)+'\\n')\n",
        "  idx+=1\n",
        "en_data_result.close()"
      ],
      "execution_count": 81,
      "outputs": []
    }
  ]
}